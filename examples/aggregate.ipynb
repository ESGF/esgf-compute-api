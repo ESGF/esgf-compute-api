{
 "cells": [
  {
   "cell_type": "markdown",
   "metadata": {},
   "source": [
    "# Aggregating files with CWT API\n",
    "\n",
    "This tutorial show how to aggregate some files via the compute api\n",
    "\n",
    "You need to get your API key from [here](https://aims2.llnl.gov/user/profile) and possibly authenticated via my_proxy_client or OAuth2 if the files you're trying to use require it."
   ]
  },
  {
   "cell_type": "code",
   "execution_count": null,
   "metadata": {},
   "outputs": [],
   "source": [
    "import os\n",
    "import cwt\n",
    "\n",
    "wps_url = os.environ.get('WPS_URL', 'https://aims2.llnl.gov/wps')\n",
    "verify = bool(os.environ.get('WPS_VERIFY', False))\n",
    "compute_token = os.environ.get('WPS_TOKEN', '<token>')\n",
    "\n",
    "client = cwt.WPSClient(wps_url, compute_token=compute_token, verify=verify)\n",
    "client"
   ]
  },
  {
   "cell_type": "code",
   "execution_count": 2,
   "metadata": {},
   "outputs": [],
   "source": [
    "files = [\n",
    "    # (612, 90, 144)\n",
    "    'http://aims3.llnl.gov/thredds/dodsC/css03_data/CMIP6/CMIP/NASA-GISS/GISS-E2-1-G/historical/r10i1p1f1/Amon/tas/gn/v20180830/tas_Amon_GISS-E2-1-G_historical_r10i1p1f1_gn_185001-190012.nc',\n",
    "    # (600, 90, 144)\n",
    "    'http://aims3.llnl.gov/thredds/dodsC/css03_data/CMIP6/CMIP/NASA-GISS/GISS-E2-1-G/historical/r10i1p1f1/Amon/tas/gn/v20180830/tas_Amon_GISS-E2-1-G_historical_r10i1p1f1_gn_190101-195012.nc',\n",
    "    # (600, 90, 144)\n",
    "    'http://aims3.llnl.gov/thredds/dodsC/css03_data/CMIP6/CMIP/NASA-GISS/GISS-E2-1-G/historical/r10i1p1f1/Amon/tas/gn/v20180830/tas_Amon_GISS-E2-1-G_historical_r10i1p1f1_gn_195101-200012.nc'\n",
    "]\n",
    "\n",
    "inputs = [cwt.Variable(x, 'tas') for x in files]"
   ]
  },
  {
   "cell_type": "code",
   "execution_count": 3,
   "metadata": {},
   "outputs": [
    {
     "data": {
      "text/plain": [
       "Process(name=bfed8318-63fc-4ac9-b17a-4ff083935924, identifier=CDAT.aggregate, inputs=[Variable(name='1cb066cb-bb62-4b4d-a060-2bcc3990cc45', uri='http://aims3.llnl.gov/thredds/dodsC/css03_data/CMIP6/CMIP/NASA-GISS/GISS-E2-1-G/historical/r10i1p1f1/Amon/tas/gn/v20180830/tas_Amon_GISS-E2-1-G_historical_r10i1p1f1_gn_185001-190012.nc', var_name='tas', domain=None, mime_type=None), Variable(name='d76f1298-ce51-4bb0-a77d-54960e2997f6', uri='http://aims3.llnl.gov/thredds/dodsC/css03_data/CMIP6/CMIP/NASA-GISS/GISS-E2-1-G/historical/r10i1p1f1/Amon/tas/gn/v20180830/tas_Amon_GISS-E2-1-G_historical_r10i1p1f1_gn_190101-195012.nc', var_name='tas', domain=None, mime_type=None), Variable(name='dc6f102c-eee5-4903-bca2-61a16478b203', uri='http://aims3.llnl.gov/thredds/dodsC/css03_data/CMIP6/CMIP/NASA-GISS/GISS-E2-1-G/historical/r10i1p1f1/Amon/tas/gn/v20180830/tas_Amon_GISS-E2-1-G_historical_r10i1p1f1_gn_195101-200012.nc', var_name='tas', domain=None, mime_type=None)], parameters={}, domain=None, title=CDAT.aggregate, process_outputs=[], data_inputs=[], status_supported=None, store_supported=None, process_version=devel)"
      ]
     },
     "execution_count": 3,
     "metadata": {},
     "output_type": "execute_result"
    }
   ],
   "source": [
    "proc = client.CDAT.aggregate(*inputs)\n",
    "proc"
   ]
  },
  {
   "cell_type": "code",
   "execution_count": null,
   "metadata": {},
   "outputs": [],
   "source": [
    "client.execute(proc)\n",
    "\n",
    "proc.wait()"
   ]
  },
  {
   "cell_type": "code",
   "execution_count": null,
   "metadata": {},
   "outputs": [],
   "source": [
    "import cdms2\n",
    "\n",
    "f = cdms2.open(proc.output.uri)\n",
    "\n",
    "tas = f[proc.output.var_name]\n",
    "\n",
    "# (362, 240, 480)\n",
    "print(tas.shape)"
   ]
  }
 ],
 "metadata": {
  "kernelspec": {
   "display_name": "Python 3",
   "language": "python",
   "name": "python3"
  },
  "language_info": {
   "codemirror_mode": {
    "name": "ipython",
    "version": 3
   },
   "file_extension": ".py",
   "mimetype": "text/x-python",
   "name": "python",
   "nbconvert_exporter": "python",
   "pygments_lexer": "ipython3",
   "version": "3.8.2"
  }
 },
 "nbformat": 4,
 "nbformat_minor": 4
}
