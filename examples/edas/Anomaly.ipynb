{
 "cells": [
  {
   "cell_type": "code",
   "execution_count": null,
   "metadata": {
    "collapsed": true
   },
   "outputs": [],
   "source": [
    "plotter = cwt.initialize()\n",
    "host =\"https://dptomcat03-int/wps/cwt\""
   ]
  },
  {
   "cell_type": "code",
   "execution_count": null,
   "metadata": {
    "collapsed": true
   },
   "outputs": [],
   "source": [
    "wps = cwt.WPS( host, log=True, log_file=os.path.expanduser(\"~/esgf_api.log\"), verify=False )"
   ]
  },
  {
   "cell_type": "code",
   "execution_count": null,
   "metadata": {
    "collapsed": true
   },
   "outputs": [],
   "source": [
    "d0_data = { 'id': 'd0', 'lat': {'start':0, 'end':60, 'crs':'values'}, 'lon': {'start':0, 'end':60, 'crs':'values'}, 'time': {'start':0, 'end':100, 'crs':'indices'} }\n",
    "d0 = cwt.Domain.from_dict(d0_data)\n",
    "\n",
    "d1_data = { 'id': 'd1', 'lat': {'start':30, 'end':30, 'crs':'values'}, 'lon': {'start':30, 'end':30, 'crs':'values'}, 'time': {'start':0, 'end':100, 'crs':'indices'} }\n",
    "d1 = cwt.Domain.from_dict(d1_data)\n",
    "\n",
    "v0 = cwt.Variable(\"collection://cip_merra2_mth\", \"tas\", domain=d0 )\n",
    "v1 = cwt.Variable(\"collection://cip_merra2_mth\", \"tas\", domain=d1 )\n",
    "\n",
    "v0_ave_data =  { 'name': \"CDSpark.ave\", 'axes': \"xy\" }\n",
    "v0_ave =  cwt.Process.from_dict( v0_ave_data )\n",
    "v0_ave.set_inputs( v0 )\n",
    "\n",
    "anomaly =  cwt.Process.from_dict( { 'name': \"CDSpark.diff2\" } )\n",
    "anomaly.set_inputs( v1, v0_ave )"
   ]
  },
  {
   "cell_type": "code",
   "execution_count": null,
   "metadata": {
    "collapsed": true
   },
   "outputs": [],
   "source": [
    "wps.execute(anomaly, domains=[d0,d1], async=True)"
   ]
  },
  {
   "cell_type": "code",
   "execution_count": null,
   "metadata": {
    "collapsed": true
   },
   "outputs": [],
   "source": [
    "dataPath = wps.download_result(op)\n",
    "plotter.mpl_timeplot(dataPath)"
   ]
  },
  {
   "cell_type": "code",
   "execution_count": null,
   "metadata": {
    "collapsed": true
   },
   "outputs": [],
   "source": [
    ""
   ]
  },
  {
   "cell_type": "code",
   "execution_count": null,
   "metadata": {
    "collapsed": true
   },
   "outputs": [],
   "source": [
    ""
   ]
  }
 ],
 "metadata": {
  "kernelspec": {
   "display_name": "Python 2",
   "language": "python",
   "name": "python2"
  },
  "language_info": {
   "codemirror_mode": {
    "name": "ipython",
    "version": 2.0
   },
   "file_extension": ".py",
   "mimetype": "text/x-python",
   "name": "python",
   "nbconvert_exporter": "python",
   "pygments_lexer": "ipython2",
   "version": "2.7.12"
  }
 },
 "nbformat": 4,
 "nbformat_minor": 0
}