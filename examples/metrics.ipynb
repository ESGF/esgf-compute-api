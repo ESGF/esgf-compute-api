{
 "cells": [
  {
   "cell_type": "markdown",
   "metadata": {},
   "source": [
    "# Accessing Metrics\n",
    "\n",
    "This tutorial show how to access some of CWT metrics.\n",
    "\n",
    "You need to get your API key from [here](https://aims2.llnl.gov/user/profile) and possibly authenticated via my_proxy_client or OAuth2 if the files you're trying to use require it."
   ]
  },
  {
   "cell_type": "code",
   "execution_count": 2,
   "metadata": {},
   "outputs": [
    {
     "data": {
      "text/plain": [
       "WPSClient(url='https://aims2.llnl.gov/wps/', log=False, log_file=None, verify=True, version=None, cert=None, headers={})"
      ]
     },
     "execution_count": 2,
     "metadata": {},
     "output_type": "execute_result"
    }
   ],
   "source": [
    "host = 'aims2.llnl.gov'\n",
    "verify = True\n",
    "compute_token = None\n",
    "\n",
    "import cwt\n",
    "\n",
    "client = cwt.WPSClient('https://{!s}/wps/'.format(host), compute_token=compute_token, verify=verify)\n",
    "client"
   ]
  },
  {
   "cell_type": "code",
   "execution_count": 2,
   "metadata": {},
   "outputs": [
    {
     "data": {
      "text/plain": [
       "Process(identifier='CDAT.metrics', title='CDAT.metrics', status_supported=None, store_supported=None, process_version='devel', abstract='Returns the current metrics of the server.', metadata=[{'url': None, 'title': 'inputs:0', 'role': None}])"
      ]
     },
     "execution_count": 2,
     "metadata": {},
     "output_type": "execute_result"
    }
   ],
   "source": [
    "proc = client.process_by_name('CDAT.metrics')\n",
    "proc"
   ]
  },
  {
   "cell_type": "code",
   "execution_count": 3,
   "metadata": {},
   "outputs": [
    {
     "name": "stdout",
     "output_type": "stream",
     "text": [
      "ProcessAccepted None\n",
      "ProcessSucceeded None\n"
     ]
    },
    {
     "data": {
      "text/plain": [
       "True"
      ]
     },
     "execution_count": 3,
     "metadata": {},
     "output_type": "execute_result"
    }
   ],
   "source": [
    "client.execute(proc)\n",
    "\n",
    "proc.wait()"
   ]
  },
  {
   "cell_type": "code",
   "execution_count": 4,
   "metadata": {},
   "outputs": [
    {
     "name": "stdout",
     "output_type": "stream",
     "text": [
      "{\n",
      " \"health\": {\n",
      "  \"cpu_avg_1h\": 0.2354427447565135,\n",
      "  \"cpu_avg_5m\": 0.06902166267083512,\n",
      "  \"cpu_count\": 1400,\n",
      "  \"memory_available\": 754913280,\n",
      "  \"memory_usage_avg_bytes_1h\": 6853317458.230303,\n",
      "  \"memory_usage_avg_bytes_5m\": 725007564.8,\n",
      "  \"user_jobs_queued\": 77,\n",
      "  \"user_jobs_running\": 78,\n",
      "  \"wps_requests\": 78,\n",
      "  \"wps_requests_avg_5m\": 78.0\n",
      " },\n",
      " \"time\": \"Mon Jun 17 21:55:46 2019\",\n",
      " \"usage\": {\n",
      "  \"files\": {\n",
      "   \"\": {\n",
      "    \"count\": 2,\n",
      "    \"unique_users\": 1\n",
      "   },\n",
      "   \"http://aims3.llnl.gov/thredds/dodsC/cmip5_css02_data/cmip5/output1/CMCC/CMCC-CM/decadal2005/mon/atmos/Amon/r1i2p1/tas/1/tas_Amon_CMCC-CM_decadal2005_r1i2p1_200511-201512.nc\": {\n",
      "    \"count\": 46,\n",
      "    \"unique_users\": 3\n",
      "   },\n",
      "   \"http://aims3.llnl.gov/thredds/dodsC/css03_data/CMIP6/CMIP/NASA-GISS/GISS-E2-1-G/historical/r10i1p1f1/Amon/tas/gn/v20180830/tas_Amon_GISS-E2-1-G_historical_r10i1p1f1_gn_185001-190012.nc\": {\n",
      "    \"count\": 12,\n",
      "    \"unique_users\": 2\n",
      "   },\n",
      "   \"http://aims3.llnl.gov/thredds/dodsC/css03_data/CMIP6/CMIP/NASA-GISS/GISS-E2-1-G/historical/r10i1p1f1/Amon/tas/gn/v20180830/tas_Amon_GISS-E2-1-G_historical_r10i1p1f1_gn_190101-195012.nc\": {\n",
      "    \"count\": 17,\n",
      "    \"unique_users\": 2\n",
      "   },\n",
      "   \"http://aims3.llnl.gov/thredds/dodsC/css03_data/CMIP6/CMIP/NASA-GISS/GISS-E2-1-G/historical/r10i1p1f1/Amon/tas/gn/v20180830/tas_Amon_GISS-E2-1-G_historical_r10i1p1f1_gn_195101-200012.nc\": {\n",
      "    \"count\": 10,\n",
      "    \"unique_users\": 2\n",
      "   },\n",
      "   \"http://esgf-data.ucar.edu/thredds/dodsC/esg_dataroot/CMIP6/CFMIP/NCAR/CESM2/amip-4xCO2/r1i1p1f1/day/tas/gn/v20190408/tas_day_CESM2_amip-4xCO2_r1i1p1f1_gn_19790101-19881231.nc\": {\n",
      "    \"count\": 25,\n",
      "    \"unique_users\": 1\n",
      "   },\n",
      "   \"http://esgf-data.ucar.edu/thredds/dodsC/esg_dataroot/CMIP6/CFMIP/NCAR/CESM2/amip-4xCO2/r1i1p1f1/day/tas/gn/v20190408/tas_day_CESM2_amip-4xCO2_r1i1p1f1_gn_19890101-19981231.nc\": {\n",
      "    \"count\": 10,\n",
      "    \"unique_users\": 1\n",
      "   },\n",
      "   \"http://esgf-data.ucar.edu/thredds/dodsC/esg_dataroot/CMIP6/CFMIP/NCAR/CESM2/amip-4xCO2/r1i1p1f1/day/tas/gn/v20190408/tas_day_CESM2_amip-4xCO2_r1i1p1f1_gn_19990101-20081231.nc\": {\n",
      "    \"count\": 10,\n",
      "    \"unique_users\": 1\n",
      "   },\n",
      "   \"http://esgf-data.ucar.edu/thredds/dodsC/esg_dataroot/CMIP6/CFMIP/NCAR/CESM2/amip-4xCO2/r1i1p1f1/day/tas/gn/v20190408/tas_day_CESM2_amip-4xCO2_r1i1p1f1_gn_20090101-20150103.nc\": {\n",
      "    \"count\": 10,\n",
      "    \"unique_users\": 1\n",
      "   },\n",
      "   \"https://aims3.llnl.gov/thredds/catalog/esgcet/283/CMIP6.CMIP.AWI.AWI-CM-1-1-MR.historical.r2i1p1f1.Amon.ta.gn.v20181218.html?dataset=CMIP6.CMIP.AWI.AWI-CM-1-1-MR.historical.r2i1p1f1.Amon.ta.gn.v20181218.ta_Amon_AWI-CM-1-1-MR_historical_r2i1p1f1_gn_201401-201412.nc\": {\n",
      "    \"count\": 1,\n",
      "    \"unique_users\": 1\n",
      "   },\n",
      "   \"https://aims3.llnl.gov/thredds/catalog/esgcet/43/cmip5.output1.CMCC.CMCC-CM.decadal2005.mon.atmos.Amon.r1i2p1.v20121008.html?dataset=cmip5.output1.CMCC.CMCC-CM.decadal2005.mon.atmos.Amon.r1i2p1.v20121008.tas_Amon_CMCC-CM_decadal2005_r1i2p1_200511-201512.nc\": {\n",
      "    \"count\": 2,\n",
      "    \"unique_users\": 1\n",
      "   },\n",
      "   \"https://aims3.llnl.gov/thredds/dodsC/css03_data/CMIP6/CMIP/NASA-GISS/GISS-E2-1-G/1pctCO2/r1i1p1f1/Amon/clt/gn/v20180905/clt_Amon_GISS-E2-1-G_1pctCO2_r1i1p1f1_gn_185001-190012.nc\": {\n",
      "    \"count\": 41,\n",
      "    \"unique_users\": 1\n",
      "   },\n",
      "   \"https://aims3.llnl.gov/thredds/dodsC/css03_data/CMIP6/CMIP/NASA-GISS/GISS-E2-1-G/1pctCO2/r1i1p1f1/Amon/clt/gn/v20180905/clt_Amon_GISS-E2-1-G_1pctCO2_r1i1p1f1_gn_190101-195012.nc\": {\n",
      "    \"count\": 27,\n",
      "    \"unique_users\": 1\n",
      "   },\n",
      "   \"https://aims3.llnl.gov/thredds/dodsC/css03_data/CMIP6/CMIP/NASA-GISS/GISS-E2-1-G/1pctCO2/r1i1p1f1/Amon/clt/gn/v20180905/clt_Amon_GISS-E2-1-G_1pctCO2_r1i1p1f1_gn_195101-200012.nc\": {\n",
      "    \"count\": 27,\n",
      "    \"unique_users\": 1\n",
      "   },\n",
      "   \"https://aims3.llnl.gov/thredds/dodsC/css03_data/CMIP6/CMIP/NASA-GISS/GISS-E2-1-G/amip/r1i1p1f1/Amon/ta/gn/v20181016/ta_Amon_GISS-E2-1-G_amip_r1i1p1f1_gn_185001-190012.nc\": {\n",
      "    \"count\": 113,\n",
      "    \"unique_users\": 1\n",
      "   },\n",
      "   \"https://aims3.llnl.gov/thredds/dodsC/css03_data/CMIP6/CMIP/NASA-GISS/GISS-E2-1-G/amip/r1i1p1f1/Amon/ta/gn/v20181016/ta_Amon_GISS-E2-1-G_amip_r1i1p1f1_gn_190101-195012.nc\": {\n",
      "    \"count\": 28,\n",
      "    \"unique_users\": 1\n",
      "   },\n",
      "   \"https://aims3.llnl.gov/thredds/dodsC/css03_data/CMIP6/CMIP/NASA-GISS/GISS-E2-1-G/amip/r1i1p1f1/Amon/tas/gn/v20181016/tas_Amon_GISS-E2-1-G_amip_r1i1p1f1_gn_185001-190012.nc\": {\n",
      "    \"count\": 13,\n",
      "    \"unique_users\": 1\n",
      "   },\n",
      "   \"https://aims3.llnl.gov/thredds/dodsC/css03_data/CMIP6/CMIP/NASA-GISS/GISS-E2-1-G/amip/r1i1p1f1/Amon/tas/gn/v20181016/tas_Amon_GISS-E2-1-G_amip_r1i1p1f1_gn_190101-195012.nc\": {\n",
      "    \"count\": 13,\n",
      "    \"unique_users\": 1\n",
      "   },\n",
      "   \"https://aims3.llnl.gov/thredds/dodsC/css03_data/CMIP6/CMIP/NASA-GISS/GISS-E2-1-G/amip/r1i1p1f1/Amon/tas/gn/v20181016/tas_Amon_GISS-E2-1-G_amip_r1i1p1f1_gn_195101-200012.nc\": {\n",
      "    \"count\": 13,\n",
      "    \"unique_users\": 1\n",
      "   },\n",
      "   \"https://aims3.llnl.gov/thredds/dodsC/css03_data/CMIP6/CMIP/NASA-GISS/GISS-E2-1-G/amip/r1i1p1f1/Amon/tas/gn/v20181016/tas_Amon_GISS-E2-1-G_amip_r1i1p1f1_gn_200101-201412.nc\": {\n",
      "    \"count\": 13,\n",
      "    \"unique_users\": 1\n",
      "   },\n",
      "   \"https://aims3.llnl.gov/thredds/fileServer/css03_data/CMIP6/CMIP/AWI/AWI-CM-1-1-MR/historical/r2i1p1f1/Amon/ta/gn/v20181218/ta_Amon_AWI-CM-1-1-MR_historical_r2i1p1f1_gn_201401-201412.nc\": {\n",
      "    \"count\": 1,\n",
      "    \"unique_users\": 1\n",
      "   },\n",
      "   \"https://esgf-node.cmcc.it/thredds/dodsC/esg_dataroot/cmip5/output1/CMCC/CMCC-CM/decadal2005/mon/atmos/Amon/r1i2p1/v20170725/tas/tas_Amon_CMCC-CM_decadal2005_r1i2p1_200511-201512.nc\": {\n",
      "    \"count\": 1,\n",
      "    \"unique_users\": 1\n",
      "   }\n",
      "  },\n",
      "  \"operators\": {\n",
      "   \"Execute\": {\n",
      "    \"avg_time\": 0.963934518629685,\n",
      "    \"count\": 33.0\n",
      "   },\n",
      "   \"GetCapabilities\": {\n",
      "    \"avg_time\": 0.6058261236175895,\n",
      "    \"count\": 45.0\n",
      "   }\n",
      "  }\n",
      " }\n",
      "}\n"
     ]
    }
   ],
   "source": [
    "import json\n",
    "\n",
    "print(json.dumps(proc.output, indent=True, sort_keys=True))"
   ]
  }
 ],
 "metadata": {
  "kernelspec": {
   "display_name": "Python 3",
   "language": "python",
   "name": "python3"
  },
  "language_info": {
   "codemirror_mode": {
    "name": "ipython",
    "version": 3
   },
   "file_extension": ".py",
   "mimetype": "text/x-python",
   "name": "python",
   "nbconvert_exporter": "python",
   "pygments_lexer": "ipython3",
   "version": "3.6.8"
  }
 },
 "nbformat": 4,
 "nbformat_minor": 4
}
