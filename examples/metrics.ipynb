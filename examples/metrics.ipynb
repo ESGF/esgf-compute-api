{
 "cells": [
  {
   "cell_type": "code",
   "execution_count": 1,
   "metadata": {
    "collapsed": true
   },
   "outputs": [],
   "source": [
    "import cwt\n",
    "\n",
    "api_key = 'TOKEN'"
   ]
  },
  {
   "cell_type": "code",
   "execution_count": 2,
   "metadata": {
    "collapsed": true
   },
   "outputs": [],
   "source": [
    "client = cwt.WPSClient('https://aims2.llnl.gov/wps/', api_key=api_key, verify=False)"
   ]
  },
  {
   "cell_type": "code",
   "execution_count": 3,
   "metadata": {
    "collapsed": true
   },
   "outputs": [],
   "source": [
    "proc = client.processes('CDAT.metrics')[0]"
   ]
  },
  {
   "cell_type": "code",
   "execution_count": 4,
   "metadata": {
    "collapsed": true
   },
   "outputs": [
    {
     "name": "stdout",
     "output_type": "stream",
     "text": [
      "ProcessAccepted Job accepted\n",
      "ProcessStarted Job Started 33\n",
      "ProcessSucceeded Job succeeded\n"
     ]
    },
    {
     "data": {
      "text/plain": [
       "True"
      ]
     },
     "execution_count": 4,
     "metadata": {},
     "output_type": "execute_result"
    }
   ],
   "source": [
    "client.execute(proc)\n",
    "\n",
    "proc.wait()"
   ]
  },
  {
   "cell_type": "code",
   "execution_count": 5,
   "metadata": {
    "collapsed": true
   },
   "outputs": [
    {
     "name": "stdout",
     "output_type": "stream",
     "text": [
      "{\n",
      " \"health\": {\n",
      "  \"cpu_avg\": 0.061007009845832516, \n",
      "  \"cpu_count\": 2, \n",
      "  \"memory_available\": 2795200512, \n",
      "  \"memory_usage\": 2031362048.0, \n",
      "  \"memory_usage_avg_5m\": 2089603891.1999998, \n",
      "  \"user_jobs_queued\": 0, \n",
      "  \"user_jobs_running\": 7, \n",
      "  \"wps_requests\": 3, \n",
      "  \"wps_requests_avg_5m\": 6.0\n",
      " }, \n",
      " \"time\": \"Thu Jan 17 07:33:17 2019\", \n",
      " \"usage\": {\n",
      "  \"files\": {}, \n",
      "  \"operators\": {\n",
      "   \"DescribeProcess\": {\n",
      "    \"avg_time\": 0.023936986923217773, \n",
      "    \"count\": 1.0\n",
      "   }, \n",
      "   \"Execute\": {\n",
      "    \"avg_time\": 0.08004498481750488, \n",
      "    \"count\": 1.0\n",
      "   }, \n",
      "   \"GetCapabilities\": {\n",
      "    \"avg_time\": 0.005793094635009766, \n",
      "    \"count\": 1.0\n",
      "   }\n",
      "  }\n",
      " }\n",
      "}\n"
     ]
    }
   ],
   "source": [
    "import json\n",
    "\n",
    "print json.dumps(proc.output, indent=True, sort_keys=True)"
   ]
  },
  {
   "cell_type": "code",
   "execution_count": null,
   "metadata": {},
   "outputs": [],
   "source": []
  }
 ],
 "metadata": {
  "kernelspec": {
   "display_name": "Python 2",
   "language": "python",
   "name": "python2"
  },
  "language_info": {
   "codemirror_mode": {
    "name": "ipython",
    "version": 2
   },
   "file_extension": ".py",
   "mimetype": "text/x-python",
   "name": "python",
   "nbconvert_exporter": "python",
   "pygments_lexer": "ipython2",
   "version": "2.7.15"
  }
 },
 "nbformat": 4,
 "nbformat_minor": 2
}
