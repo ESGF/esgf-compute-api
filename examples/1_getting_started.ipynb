{
 "cells": [
  {
   "cell_type": "markdown",
   "metadata": {},
   "source": [
    "# Let's get started\n",
    "\n",
    "1. [Install](https://conda.io/docs/install/quick.html) conda\n",
    "2. [Install](https://github.com/ESGF/esgf-compute-api) ESGF CWT end-user API through conda\n",
    "3. [Create](https://aims2.llnl.gov/wps/home/create) an account on aims2.llnl.gov\n",
    "4. [Login](https://aims2.llnl.gov/wps/home/login) to aims2.llnl.gov\n",
    "5. [Choose](https://aims2.llnl.gov/wps/home/user) your authentication method\n",
    "    * OAuth2\n",
    "    * MyProxyClient\n",
    "6. Copy your [api key](https://aims2.llnl.gov/wps/home/user) as you will need this to execute any processes"
   ]
  },
  {
   "cell_type": "code",
   "execution_count": null,
   "metadata": {
    "collapsed": true
   },
   "outputs": [],
   "source": [
    "api_key = 'YOUR KEY'\n",
    "\n",
    "import cwt\n",
    "\n",
    "wps = cwt.WPS('https://aims2.llnl.gov/wps', api_key=api_key)"
   ]
  },
  {
   "cell_type": "markdown",
   "metadata": {},
   "source": [
    "## List the available processes\n",
    "This will print out a list of the available processes."
   ]
  },
  {
   "cell_type": "code",
   "execution_count": null,
   "metadata": {
    "collapsed": true
   },
   "outputs": [],
   "source": [
    "for p in wps.processes():\n",
    "    print p.identifier"
   ]
  },
  {
   "cell_type": "markdown",
   "metadata": {},
   "source": [
    "## Choose a process to execute\n",
    "Let's choose which process we'll be executing."
   ]
  },
  {
   "cell_type": "code",
   "execution_count": null,
   "metadata": {
    "collapsed": true
   },
   "outputs": [],
   "source": [
    "proc = wps.get_process('CDAT.subset')"
   ]
  },
  {
   "cell_type": "markdown",
   "metadata": {},
   "source": [
    "## Configure our process with inputs and some constraints\n",
    "Here we define our input variables and the domain we're interested in."
   ]
  },
  {
   "cell_type": "code",
   "execution_count": null,
   "metadata": {
    "collapsed": true
   },
   "outputs": [],
   "source": [
    "tas = cwt.Variable('http://aims3.llnl.gov/thredds/dodsC/cmip5_css02_data/cmip5/output1/CMCC/CMCC-CM/decadal2005/mon/atmos/Amon/r1i2p1/tas/1/tas_Amon_CMCC-CM_decadal2005_r1i2p1_200511-201512.nc', 'tas')\n",
    "\n",
    "d0 = cwt.Domain([\n",
    "    cwt.Dimension('latitude', -90, 0),\n",
    "    cwt.Dimension('longitude', 180, 360),\n",
    "    cwt.Dimension('time', 100, 300, cwt.INDICES),\n",
    "])"
   ]
  },
  {
   "cell_type": "markdown",
   "metadata": {},
   "source": [
    "## Let's execute the process\n",
    "Here we'll execute the process on the server. We're using the inputs and domain we defined above and applying regridding to grid T21."
   ]
  },
  {
   "cell_type": "code",
   "execution_count": null,
   "metadata": {
    "collapsed": true
   },
   "outputs": [],
   "source": [
    "wps.execute(proc, inputs=[tas], domain=d0)"
   ]
  },
  {
   "cell_type": "markdown",
   "metadata": {},
   "source": [
    "## Now, let's check the status"
   ]
  },
  {
   "cell_type": "code",
   "execution_count": null,
   "metadata": {
    "collapsed": true
   },
   "outputs": [],
   "source": [
    "import time\n",
    "\n",
    "while proc.processing:\n",
    "    print proc.status\n",
    "    \n",
    "    time.sleep(1)\n",
    "    \n",
    "print proc.status\n",
    "\n",
    "print proc.output.uri\n",
    "print proc.output.var_name"
   ]
  },
  {
   "cell_type": "markdown",
   "metadata": {},
   "source": [
    "## Let's explore the output"
   ]
  },
  {
   "cell_type": "code",
   "execution_count": null,
   "metadata": {
    "collapsed": true
   },
   "outputs": [],
   "source": [
    "import cdms2\n",
    "\n",
    "f = cdms2.open(proc.output.uri)\n",
    "\n",
    "tas = f['tas']\n",
    "\n",
    "print tas.shape"
   ]
  },
  {
   "cell_type": "code",
   "execution_count": null,
   "metadata": {
    "collapsed": true
   },
   "outputs": [],
   "source": []
  }
 ],
 "metadata": {
  "kernelspec": {
   "display_name": "Python 2",
   "language": "python",
   "name": "python2"
  },
  "language_info": {
   "codemirror_mode": {
    "name": "ipython",
    "version": 2
   },
   "file_extension": ".py",
   "mimetype": "text/x-python",
   "name": "python",
   "nbconvert_exporter": "python",
   "pygments_lexer": "ipython2",
   "version": "2.7.12"
  }
 },
 "nbformat": 4,
 "nbformat_minor": 2
}
