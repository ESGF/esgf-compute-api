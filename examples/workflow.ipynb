{
 "cells": [
  {
   "cell_type": "markdown",
   "metadata": {},
   "source": [
    "# Creating workflows with CWT.\n",
    "\n",
    "This tutorial show how to create workflows for CWT.\n",
    "\n",
    "You need to get your API key from [here](https://aims2.llnl.gov/user/profile) and possibly authenticated via my_proxy_client or OAuth2 if the files you're trying to use require it."
   ]
  },
  {
   "cell_type": "code",
   "execution_count": null,
   "metadata": {},
   "outputs": [],
   "source": [
    "import os\n",
    "import cwt\n",
    "\n",
    "wps_url = os.environ.get('WPS_URL', 'https://aims2.llnl.gov/wps')\n",
    "verify = bool(os.environ.get('WPS_VERIFY', True))\n",
    "compute_token = os.environ.get('WPS_TOKEN', '<token>')\n",
    "\n",
    "client = cwt.WPSClient(wps_url, compute_token=compute_token, verify=verify)\n",
    "client"
   ]
  },
  {
   "cell_type": "code",
   "execution_count": 2,
   "metadata": {},
   "outputs": [],
   "source": [
    "# (600, 90, 144)\n",
    "inputs = cwt.Variable('http://aims3.llnl.gov/thredds/dodsC/css03_data/CMIP6/CMIP/NASA-GISS/GISS-E2-1-G/historical/r10i1p1f1/Amon/tas/gn/v20180830/tas_Amon_GISS-E2-1-G_historical_r10i1p1f1_gn_190101-195012.nc', 'tas')"
   ]
  },
  {
   "cell_type": "code",
   "execution_count": 3,
   "metadata": {},
   "outputs": [
    {
     "data": {
      "text/plain": [
       "Process(name=54de379b-c714-4e99-a110-67e431486aca, identifier=CDAT.subset, inputs=[Variable(name='9b50f078-2739-4896-9d20-1d7518d405c3', uri='http://aims3.llnl.gov/thredds/dodsC/css03_data/CMIP6/CMIP/NASA-GISS/GISS-E2-1-G/historical/r10i1p1f1/Amon/tas/gn/v20180830/tas_Amon_GISS-E2-1-G_historical_r10i1p1f1_gn_190101-195012.nc', var_name='tas', domain=None, mime_type=None)], parameters={}, domain=Domain(dimensions={'time': Dimension(name='time', start='1910', end='1925', step=1, crs=CRS(name='timestamps')), 'lat': Dimension(name='lat', start=0, end=90, step=1, crs=CRS(name='values'))}, mask=None, name='2a19e050-a9c0-4730-a3fc-9bb223195075'), title=CDAT.subset, process_outputs=[], data_inputs=[], status_supported=None, store_supported=None, process_version=devel)"
      ]
     },
     "execution_count": 3,
     "metadata": {},
     "output_type": "execute_result"
    }
   ],
   "source": [
    "# First we subset the input\n",
    "subset = client.CDAT.subset(inputs, domain=cwt.Domain(time=('1910', '1925'), lat=(0, 90)))\n",
    "subset"
   ]
  },
  {
   "cell_type": "code",
   "execution_count": 4,
   "metadata": {},
   "outputs": [
    {
     "data": {
      "text/plain": [
       "Process(name=f0be08bc-03d9-4d4f-85e4-672d1204658a, identifier=CDAT.max, inputs=[Process(name=54de379b-c714-4e99-a110-67e431486aca, identifier=CDAT.subset, inputs=[Variable(name='9b50f078-2739-4896-9d20-1d7518d405c3', uri='http://aims3.llnl.gov/thredds/dodsC/css03_data/CMIP6/CMIP/NASA-GISS/GISS-E2-1-G/historical/r10i1p1f1/Amon/tas/gn/v20180830/tas_Amon_GISS-E2-1-G_historical_r10i1p1f1_gn_190101-195012.nc', var_name='tas', domain=None, mime_type=None)], parameters={}, domain=Domain(dimensions={'time': Dimension(name='time', start='1910', end='1925', step=1, crs=CRS(name='timestamps')), 'lat': Dimension(name='lat', start=0, end=90, step=1, crs=CRS(name='values'))}, mask=None, name='2a19e050-a9c0-4730-a3fc-9bb223195075'), title=CDAT.subset, process_outputs=[], data_inputs=[], status_supported=None, store_supported=None, process_version=devel)], parameters={'axes': NamedParameter(name='axes', values=('lat',))}, domain=None, title=CDAT.max, process_outputs=[], data_inputs=[], status_supported=None, store_supported=None, process_version=devel)"
      ]
     },
     "execution_count": 4,
     "metadata": {},
     "output_type": "execute_result"
    }
   ],
   "source": [
    "maximum = client.CDAT.max(subset, axes=['lat'])\n",
    "maximum"
   ]
  },
  {
   "cell_type": "code",
   "execution_count": 5,
   "metadata": {},
   "outputs": [
    {
     "data": {
      "text/plain": [
       "Process(name=9c6a2c2a-6c16-4801-aa9f-17d5c4e2d0b8, identifier=CDAT.workflow, inputs=[Process(name=f0be08bc-03d9-4d4f-85e4-672d1204658a, identifier=CDAT.max, inputs=[Process(name=54de379b-c714-4e99-a110-67e431486aca, identifier=CDAT.subset, inputs=[Variable(name='9b50f078-2739-4896-9d20-1d7518d405c3', uri='http://aims3.llnl.gov/thredds/dodsC/css03_data/CMIP6/CMIP/NASA-GISS/GISS-E2-1-G/historical/r10i1p1f1/Amon/tas/gn/v20180830/tas_Amon_GISS-E2-1-G_historical_r10i1p1f1_gn_190101-195012.nc', var_name='tas', domain=None, mime_type=None)], parameters={}, domain=Domain(dimensions={'time': Dimension(name='time', start='1910', end='1925', step=1, crs=CRS(name='timestamps')), 'lat': Dimension(name='lat', start=0, end=90, step=1, crs=CRS(name='values'))}, mask=None, name='2a19e050-a9c0-4730-a3fc-9bb223195075'), title=CDAT.subset, process_outputs=[], data_inputs=[], status_supported=None, store_supported=None, process_version=devel)], parameters={'axes': NamedParameter(name='axes', values=('lat',))}, domain=None, title=CDAT.max, process_outputs=[], data_inputs=[], status_supported=None, store_supported=None, process_version=devel)], parameters={}, domain=None, title=CDAT.workflow, process_outputs=[], data_inputs=[], status_supported=None, store_supported=None, process_version=devel)"
      ]
     },
     "execution_count": 5,
     "metadata": {},
     "output_type": "execute_result"
    }
   ],
   "source": [
    "workflow = client.CDAT.workflow(maximum)\n",
    "workflow"
   ]
  },
  {
   "cell_type": "code",
   "execution_count": 6,
   "metadata": {},
   "outputs": [
    {
     "name": "stdout",
     "output_type": "stream",
     "text": [
      "ProcessAccepted None\n",
      "ProcessAccepted Validating workflow\n",
      "ProcessStarted Building output for 'f0be08bc-03d9-4d4f-85e4-672d1204658a' - 'CDAT.max' 0\n",
      "ProcessSucceeded None\n"
     ]
    },
    {
     "data": {
      "text/plain": [
       "True"
      ]
     },
     "execution_count": 6,
     "metadata": {},
     "output_type": "execute_result"
    }
   ],
   "source": [
    "# and use proc_max.\n",
    "client.execute(workflow)\n",
    "\n",
    "workflow.wait()"
   ]
  },
  {
   "cell_type": "code",
   "execution_count": 7,
   "metadata": {},
   "outputs": [
    {
     "name": "stdout",
     "output_type": "stream",
     "text": [
      "(192, 144)\n"
     ]
    }
   ],
   "source": [
    "import cdms2\n",
    "\n",
    "f = cdms2.open(workflow.output.uri)\n",
    "\n",
    "tas = f[workflow.output.var_name]\n",
    "\n",
    "# (192, 144)\n",
    "print(tas.shape)"
   ]
  },
  {
   "cell_type": "code",
   "execution_count": 8,
   "metadata": {},
   "outputs": [
    {
     "name": "stderr",
     "output_type": "stream",
     "text": [
      "/opt/conda/envs/jupyterlab/lib/python3.8/site-packages/cdms2/tvariable.py:281: DeprecationWarning: Non-scalar arrays for the fill value are deprecated. Use arrays with scalar values instead. The filled function still supports any array as `fill_value`.\n",
      "  self._missing = numpy.array(value).astype(self.dtype)\n"
     ]
    },
    {
     "data": {
      "text/plain": [
       "[<matplotlib.lines.Line2D at 0x7fe70c9030d0>]"
      ]
     },
     "execution_count": 8,
     "metadata": {},
     "output_type": "execute_result"
    },
    {
     "data": {
      "image/png": "[encoded data removed]",
      "text/plain": [
       "<Figure size 432x288 with 1 Axes>"
      ]
     },
     "metadata": {
      "needs_background": "light"
     },
     "output_type": "display_data"
    }
   ],
   "source": [
    "import matplotlib.pyplot as plt\n",
    "\n",
    "fix, ax = plt.subplots()\n",
    "ax.plot(tas[0].data)"
   ]
  },
  {
   "cell_type": "code",
   "execution_count": null,
   "metadata": {},
   "outputs": [],
   "source": []
  }
 ],
 "metadata": {
  "kernelspec": {
   "display_name": "Python 3",
   "language": "python",
   "name": "python3"
  },
  "language_info": {
   "codemirror_mode": {
    "name": "ipython",
    "version": 3
   },
   "file_extension": ".py",
   "mimetype": "text/x-python",
   "name": "python",
   "nbconvert_exporter": "python",
   "pygments_lexer": "ipython3",
   "version": "3.8.2"
  }
 },
 "nbformat": 4,
 "nbformat_minor": 4
}
