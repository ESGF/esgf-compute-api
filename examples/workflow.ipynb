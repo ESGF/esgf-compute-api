{
 "cells": [
  {
   "cell_type": "markdown",
   "metadata": {},
   "source": [
    "# Creating workflows with CWT.\n",
    "\n",
    "This tutorial show how to create workflows for CWT.\n",
    "\n",
    "You need to get your API key from [here](https://aims2.llnl.gov/user/profile) and possibly authenticated via my_proxy_client or OAuth2 if the files you're trying to use require it."
   ]
  },
  {
   "cell_type": "code",
   "execution_count": 1,
   "metadata": {},
   "outputs": [
    {
     "data": {
      "text/plain": [
       "WPSClient(url='https://aims2.llnl.gov/wps/', log=False, log_file=None, verify=True, version=None, cert=None, headers={})"
      ]
     },
     "execution_count": 1,
     "metadata": {},
     "output_type": "execute_result"
    }
   ],
   "source": [
    "host = 'aims2.llnl.gov'\n",
    "verify = True\n",
    "compute_token = None\n",
    "\n",
    "import cwt\n",
    "\n",
    "client = cwt.WPSClient('https://{!s}/wps/'.format(host), compute_token=compute_token, verify=verify)\n",
    "client"
   ]
  },
  {
   "cell_type": "code",
   "execution_count": null,
   "metadata": {},
   "outputs": [],
   "source": [
    "# (122, 240, 480)\n",
    "inputs = cwt.Variable('http://aims3.llnl.gov/thredds/dodsC/css03_data/CMIP6/CMIP/NASA-GISS/GISS-E2-1-G/historical/r10i1p1f1/Amon/tas/gn/v20180830/tas_Amon_GISS-E2-1-G_historical_r10i1p1f1_gn_190101-195012.nc', 'tas')"
   ]
  },
  {
   "cell_type": "code",
   "execution_count": null,
   "metadata": {},
   "outputs": [],
   "source": [
    "# First we subset the input\n",
    "proc_subset = client.process_by_name('CDAT.subset')\n",
    "\n",
    "proc_subset.add_inputs(inputs)\n",
    "\n",
    "proc_subset.set_domain(cwt.Domain(time=('1910', '1925'), lat=(0, 90)))\n",
    "\n",
    "proc_subset"
   ]
  },
  {
   "cell_type": "code",
   "execution_count": null,
   "metadata": {},
   "outputs": [],
   "source": [
    "# Then we chain this result to the max operator\n",
    "proc_max = client.process_by_name('CDAT.max')\n",
    "\n",
    "proc_max.add_inputs(proc_subset)\n",
    "\n",
    "proc_max.add_parameters(axes=['lat'])\n",
    "\n",
    "proc_max"
   ]
  },
  {
   "cell_type": "code",
   "execution_count": null,
   "metadata": {},
   "outputs": [],
   "source": [
    "# Now we obtain a workflow operator\n",
    "proc_workflow = client.process_by_name('CDAT.workflow')\n",
    "proc_workflow"
   ]
  },
  {
   "cell_type": "code",
   "execution_count": null,
   "metadata": {},
   "outputs": [],
   "source": [
    "# and use proc_max.\n",
    "client.execute(proc_workflow, [proc_max])\n",
    "\n",
    "proc_workflow.wait()"
   ]
  },
  {
   "cell_type": "code",
   "execution_count": null,
   "metadata": {},
   "outputs": [],
   "source": [
    "import cdms2\n",
    "\n",
    "proc_output = [x for x in proc_workflow.output if 'CDAT.max' in x.name][0]\n",
    "\n",
    "f = cdms2.open(proc_output.uri)\n",
    "\n",
    "tas = f[proc_output.var_name]\n",
    "\n",
    "# (3, 480)\n",
    "print(tas.shape)"
   ]
  },
  {
   "cell_type": "code",
   "execution_count": null,
   "metadata": {},
   "outputs": [],
   "source": [
    "import vcs\n",
    "\n",
    "v = vcs.init()\n",
    "\n",
    "v.plot(tas[0])"
   ]
  }
 ],
 "metadata": {
  "kernelspec": {
   "display_name": "Python 3",
   "language": "python",
   "name": "python3"
  },
  "language_info": {
   "codemirror_mode": {
    "name": "ipython",
    "version": 3
   },
   "file_extension": ".py",
   "mimetype": "text/x-python",
   "name": "python",
   "nbconvert_exporter": "python",
   "pygments_lexer": "ipython3",
   "version": "3.6.8"
  }
 },
 "nbformat": 4,
 "nbformat_minor": 4
}
