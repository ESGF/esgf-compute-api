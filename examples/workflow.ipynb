{
 "cells": [
  {
   "cell_type": "code",
   "execution_count": null,
   "metadata": {
    "collapsed": true
   },
   "outputs": [],
   "source": [
    "import cwt\n",
    "\n",
    "api_key = 'b4JDlfbmzmiqjjLHsisSCyohdWAuo2iflxUdMMiF6Y6fd8sQIcTH1jzVmEhYZ4EP'"
   ]
  },
  {
   "cell_type": "code",
   "execution_count": null,
   "metadata": {
    "collapsed": true
   },
   "outputs": [],
   "source": [
    "client = cwt.WPSClient('https://192.168.39.34/wps', api_key=api_key, verify=False)"
   ]
  },
  {
   "cell_type": "code",
   "execution_count": null,
   "metadata": {
    "collapsed": true
   },
   "outputs": [],
   "source": [
    "# (122, 240, 480)\n",
    "inputs = cwt.Variable('http://aims3.llnl.gov/thredds/dodsC/cmip5_css02_data/cmip5/output1/CMCC/CMCC-CM/decadal2005/mon/atmos/Amon/r1i2p1/tas/1/tas_Amon_CMCC-CM_decadal2005_r1i2p1_200511-201512.nc', 'tas')"
   ]
  },
  {
   "cell_type": "code",
   "execution_count": null,
   "metadata": {
    "collapsed": true
   },
   "outputs": [],
   "source": [
    "proc_subset = client.processes('CDAT.subset')[0]\n",
    "\n",
    "proc_subset.add_inputs(inputs)\n",
    "\n",
    "proc_subset.set_domain(cwt.Domain(time=(0, 100), lat=(0, 90)))"
   ]
  },
  {
   "cell_type": "code",
   "execution_count": null,
   "metadata": {
    "collapsed": true
   },
   "outputs": [],
   "source": [
    "proc_max = client.processes('CDAT.max')[0]\n",
    "\n",
    "proc_max.add_inputs(proc_subset)\n",
    "\n",
    "proc_max.add_parameters(axes=['lat'])"
   ]
  },
  {
   "cell_type": "code",
   "execution_count": null,
   "metadata": {
    "collapsed": true
   },
   "outputs": [],
   "source": [
    "proc_workflow = client.processes('CDAT.workflow')[0]"
   ]
  },
  {
   "cell_type": "code",
   "execution_count": null,
   "metadata": {
    "collapsed": true
   },
   "outputs": [],
   "source": [
    "client.execute(proc_workflow, [proc_max])\n",
    "\n",
    "proc_workflow.wait()"
   ]
  },
  {
   "cell_type": "code",
   "execution_count": null,
   "metadata": {
    "collapsed": true
   },
   "outputs": [],
   "source": [
    "proc_workflow.output"
   ]
  },
  {
   "cell_type": "code",
   "execution_count": null,
   "metadata": {
    "collapsed": true
   },
   "outputs": [],
   "source": [
    "import cdms2\n",
    "\n",
    "proc_output = [x for x in proc_workflow.output if 'CDAT.max' in x.name][0]\n",
    "\n",
    "f = cdms2.open(proc_output.uri)\n",
    "\n",
    "tas = f[proc_output.var_name]\n",
    "\n",
    "# (3, 480)\n",
    "print tas.shape"
   ]
  },
  {
   "cell_type": "code",
   "execution_count": null,
   "metadata": {},
   "outputs": [],
   "source": [
    "import vcs\n",
    "\n",
    "v = vcs.init()\n",
    "\n",
    "v.plot(tas[0])"
   ]
  },
  {
   "cell_type": "code",
   "execution_count": null,
   "metadata": {},
   "outputs": [],
   "source": []
  }
 ],
 "metadata": {
  "kernelspec": {
   "display_name": "Python 2",
   "language": "python",
   "name": "python2"
  },
  "language_info": {
   "codemirror_mode": {
    "name": "ipython",
    "version": 2
   },
   "file_extension": ".py",
   "mimetype": "text/x-python",
   "name": "python",
   "nbconvert_exporter": "python",
   "pygments_lexer": "ipython2",
   "version": "2.7.15"
  }
 },
 "nbformat": 4,
 "nbformat_minor": 2
}
