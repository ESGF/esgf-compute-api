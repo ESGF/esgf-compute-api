{
 "cells": [
  {
   "cell_type": "code",
   "execution_count": 1,
   "metadata": {
    "collapsed": true
   },
   "outputs": [],
   "source": [
    "import cwt\n",
    "\n",
    "api_key = 'yiJDxvpKvsDsb4YH6rzU9Ptv72n3pXnxGJ3FEBBSbEQGOiYuKacah8mSNK6Uk21x'"
   ]
  },
  {
   "cell_type": "code",
   "execution_count": 2,
   "metadata": {
    "collapsed": true
   },
   "outputs": [],
   "source": [
    "wps = cwt.WPS('https://aims2.llnl.gov/wps/', api_key=api_key)"
   ]
  },
  {
   "cell_type": "code",
   "execution_count": 3,
   "metadata": {
    "collapsed": true
   },
   "outputs": [],
   "source": [
    "tas = cwt.Variable('http://aims3.llnl.gov/thredds/dodsC/cmip5_css02_data/cmip5/output1/CMCC/CMCC-CM/historical/mon/atmos/Amon/r1i1p1/tas/1/tas_Amon_CMCC-CM_historical_r1i1p1_200001-200512.nc', 'tas')"
   ]
  },
  {
   "cell_type": "code",
   "execution_count": 4,
   "metadata": {
    "collapsed": true
   },
   "outputs": [],
   "source": [
    "d0 = cwt.Domain([\n",
    "    cwt.Dimension('time', 15.0, 500.5),\n",
    "])"
   ]
  },
  {
   "cell_type": "code",
   "execution_count": 5,
   "metadata": {
    "collapsed": true
   },
   "outputs": [],
   "source": [
    "subset = wps.get_process('CDAT.subset')"
   ]
  },
  {
   "cell_type": "code",
   "execution_count": 6,
   "metadata": {},
   "outputs": [],
   "source": [
    "wps.execute(subset, inputs=[tas], domain=d0)"
   ]
  },
  {
   "cell_type": "code",
   "execution_count": 7,
   "metadata": {},
   "outputs": [
    {
     "name": "stdout",
     "output_type": "stream",
     "text": [
      "ProcessStarted Subsetting tas 0 %\n",
      "ProcessStarted Subsetting tas 0 %\n",
      "ProcessStarted Subsetting tas 0 %\n",
      "ProcessStarted Subsetting tas 0 %\n",
      "ProcessStarted Subsetting tas 0 %\n",
      "ProcessStarted Subsetting tas 0 %\n",
      "ProcessStarted Subsetting tas 0 %\n",
      "ProcessStarted Subsetting tas 0 %\n",
      "ProcessStarted Subsetting tas 0 %\n",
      "ProcessStarted Subsetting tas 0 %\n",
      "ProcessStarted Subsetting tas 0 %\n",
      "ProcessStarted Subsetting tas 0 %\n",
      "ProcessStarted Subsetting tas 0 %\n",
      "ProcessStarted Subsetting tas 0 %\n",
      "ProcessStarted Subsetting tas 0 %\n",
      "ProcessStarted Subsetting tas 0 %\n",
      "ProcessStarted Subsetting tas 0 %\n",
      "ProcessStarted Subsetting tas 0 %\n",
      "ProcessSucceeded\n",
      "http://aims2.llnl.gov/wps/job/93\n"
     ]
    }
   ],
   "source": [
    "import time\n",
    "\n",
    "print subset.status\n",
    "\n",
    "while subset.processing:\n",
    "    print subset.status\n",
    "    \n",
    "print subset.status\n",
    "\n",
    "print subset.status_location"
   ]
  },
  {
   "cell_type": "code",
   "execution_count": 8,
   "metadata": {},
   "outputs": [
    {
     "name": "stdout",
     "output_type": "stream",
     "text": [
      "(15, 240, 480)\n"
     ]
    }
   ],
   "source": [
    "import cdms2\n",
    "\n",
    "subset.output.localize()\n",
    "\n",
    "f = cdms2.open('output.nc')\n",
    "\n",
    "tas = f['tas']\n",
    "\n",
    "print tas.shape"
   ]
  },
  {
   "cell_type": "code",
   "execution_count": null,
   "metadata": {
    "collapsed": true
   },
   "outputs": [],
   "source": []
  }
 ],
 "metadata": {
  "kernelspec": {
   "display_name": "Python 2",
   "language": "python",
   "name": "python2"
  },
  "language_info": {
   "codemirror_mode": {
    "name": "ipython",
    "version": 2
   },
   "file_extension": ".py",
   "mimetype": "text/x-python",
   "name": "python",
   "nbconvert_exporter": "python",
   "pygments_lexer": "ipython2",
   "version": "2.7.12"
  }
 },
 "nbformat": 4,
 "nbformat_minor": 2
}
