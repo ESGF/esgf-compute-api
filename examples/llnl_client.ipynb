{
 "cells": [
  {
   "cell_type": "markdown",
   "metadata": {},
   "source": [
    "# LLNL WPS Client\n",
    "\n",
    "This tutorial will demonstrate the features of the LLNL WPS Client.\n",
    "\n",
    "**Prerequisites**\n",
    "- Environment\n",
    "  - `conda create -n cwt -c conda-forge -c cdat esgf-compute-api cdms2 matplotlib cartopy ipykernel`\n",
    "- Expose conda kernel\n",
    "  - `conda activate cwt; python -m ipykernel install --user --name cwt`\n",
    "\n",
    "**Features**\n",
    "- LLNLAuthenticator handles authentication and token retrieval.\n",
    "  - Can store token in between sessions.\n",
    "- LLNLClient provides access to job management.\n",
    "\n",
    "First we'll run a little setup then move onto looking at [authentication](#Authentication)."
   ]
  },
  {
   "cell_type": "code",
   "execution_count": 1,
   "metadata": {},
   "outputs": [],
   "source": [
    "import os\n",
    "import owslib\n",
    "import cwt\n",
    "from cwt import llnl_client\n",
    "\n",
    "server_url = os.environ.get('SERVER_URL', 'https://aims2.llnl.gov/')\n",
    "verify = bool(os.environ.get('VERIFY', True))\n",
    "wps_url = os.environ.get('WPS_URL', 'https://aims2.llnl.gov/wps')"
   ]
  },
  {
   "cell_type": "markdown",
   "metadata": {},
   "source": [
    "## Authentication\n",
    "\n",
    "By default 3 authenticators are offered.\n",
    "\n",
    "* [OWSLib authentication](#OWSLib-authentication)\n",
    "* [LLNL authentication](#LLNL-authentication)\n",
    "* [Token Authenticator](#Token-authentication) \n",
    "\n",
    "### OWSLib authentication\n",
    "\n",
    "This method provides access to secure WPS servers requiring basic authentication or certificates."
   ]
  },
  {
   "cell_type": "code",
   "execution_count": 2,
   "metadata": {},
   "outputs": [
    {
     "data": {
      "text/plain": [
       "<Authentication shared=False username=test password=test cert=None verify=True>"
      ]
     },
     "execution_count": 2,
     "metadata": {},
     "output_type": "execute_result"
    }
   ],
   "source": [
    "auth = owslib.util.Authentication(username='test', password='test')\n",
    "auth"
   ]
  },
  {
   "cell_type": "markdown",
   "metadata": {},
   "source": [
    "### LLNL authentication\n",
    "\n",
    "This method utilizes the LLNL compute authentication which uses ESGF OpenID service."
   ]
  },
  {
   "cell_type": "code",
   "execution_count": 3,
   "metadata": {},
   "outputs": [
    {
     "data": {
      "text/plain": [
       "LLNLAuthenticator(server_url='https://aims2.llnl.gov/', openid_url='https://esgf-node.llnl.gov/esgf-idp/openid', verify=True)"
      ]
     },
     "execution_count": 3,
     "metadata": {},
     "output_type": "execute_result"
    }
   ],
   "source": [
    "auth = llnl_client.LLNLAuthenticator(server_url=server_url)\n",
    "auth"
   ]
  },
  {
   "cell_type": "markdown",
   "metadata": {},
   "source": [
    "### Token authentication\n",
    "\n",
    "This method uses and existing token to that will be passed in the header as `Authorization: Bearer <token>`."
   ]
  },
  {
   "cell_type": "code",
   "execution_count": 4,
   "metadata": {},
   "outputs": [
    {
     "data": {
      "text/plain": [
       "<cwt.auth.TokenAuthenticator at 0x7fffed34f4d0>"
      ]
     },
     "execution_count": 4,
     "metadata": {},
     "output_type": "execute_result"
    }
   ],
   "source": [
    "auth = llnl_client.TokenAuthenticator('token')\n",
    "auth"
   ]
  },
  {
   "cell_type": "markdown",
   "metadata": {},
   "source": [
    "# LLNL WPS Client\n",
    "\n",
    "The `LLNLAuthenticator` is token based. It handles redirecting the user for login and retrieving their token.\n",
    "\n",
    "The `LLNLClient` is an extension of the standard `WPSClient`. It provides extended support such as job history/management.\n",
    "\n",
    "Below we'll initialize the client and take a look at the process offerrings."
   ]
  },
  {
   "cell_type": "code",
   "execution_count": 5,
   "metadata": {},
   "outputs": [
    {
     "data": {
      "text/html": [
       "<div><table><tr><th>Identifier</td><th>Title</td><th>Process Version</td><th>Status Supported</td><th>Store Supported</td><th style=\"text-align: left\">Abstract</td></tr><tr><td>CDAT.workflow</td><td>CDAT.workflow</td><td>devel</td><td>None</td><td>None</td><td><pre style=\"text-align: left\">Holds the ouputs to a complex workflow.\n",
       "\n",
       "    Each input represents a unique output. Domain and parameters defined in the workflow process\n",
       "    will act like defaults for each child process.\n",
       "    \n",
       "\n",
       "Accepts a minimum of 1 inputs.</pre></td></tr><tr><td>CDAT.abs</td><td>CDAT.abs</td><td>devel</td><td>None</td><td>None</td><td><pre style=\"text-align: left\">Computes elementwise absolute on each variable.\n",
       "\n",
       "    Can be applied to a single variable if the parameter `variable` is used.\n",
       "    \n",
       "\n",
       "Accepts exactly 1 input.\n",
       "\n",
       "Parameters:\n",
       "    variable (str): Target variable for the process.\n",
       "    rename (list): List of pairs mapping variable to new name e.g. pr,pr_test will rename pr to pr_test.\n",
       "    fillna (float): The number used to replace nan values in output.</pre></td></tr><tr><td>CDAT.add</td><td>CDAT.add</td><td>devel</td><td>None</td><td>None</td><td><pre style=\"text-align: left\">Computes an elementwise sum for each variable between an input or constant.\n",
       "\n",
       "    Can be applied to a single variable if the parameter `variable` is used.\n",
       "    \n",
       "\n",
       "Accepts 1 to 2 inputs.\n",
       "\n",
       "Parameters:\n",
       "    variable (str): Target variable for the process.\n",
       "    rename (list): List of pairs mapping variable to new name e.g. pr,pr_test will rename pr to pr_test.\n",
       "    fillna (float): The number used to replace nan values in output.\n",
       "    const (float): A value that will be applied element-wise.</pre></td></tr><tr><td>CDAT.aggregate</td><td>CDAT.aggregate</td><td>devel</td><td>None</td><td>None</td><td><pre style=\"text-align: left\">Aggregates a variable spanning multiple input files.\n",
       "    \n",
       "\n",
       "Accepts a minimum of 2 inputs.\n",
       "\n",
       "Parameters:\n",
       "    rename (list): List of pairs mapping variable to new name e.g. pr,pr_test will rename pr to pr_test.\n",
       "    fillna (float): The number used to replace nan values in output.</pre></td></tr><tr><td>CDAT.divide</td><td>CDAT.divide</td><td>devel</td><td>None</td><td>None</td><td><pre style=\"text-align: left\">Compute elementwise division between a variable or constant.\n",
       "\n",
       "    Can be applied to a single variable if the parameter `variable` is used.\n",
       "    \n",
       "\n",
       "Accepts 1 to 2 inputs.\n",
       "\n",
       "Parameters:\n",
       "    variable (str): Target variable for the process.\n",
       "    rename (list): List of pairs mapping variable to new name e.g. pr,pr_test will rename pr to pr_test.\n",
       "    fillna (float): The number used to replace nan values in output.\n",
       "    const (float): A value that will be applied element-wise.</pre></td></tr><tr><td>CDAT.exp</td><td>CDAT.exp</td><td>devel</td><td>None</td><td>None</td><td><pre style=\"text-align: left\">Computes elementwise exponent on each variable.\n",
       "\n",
       "    Can be applied to a single variable if the parameter `variable` is used.\n",
       "    \n",
       "\n",
       "Accepts exactly 1 input.\n",
       "\n",
       "Parameters:\n",
       "    variable (str): Target variable for the process.\n",
       "    rename (list): List of pairs mapping variable to new name e.g. pr,pr_test will rename pr to pr_test.\n",
       "    fillna (float): The number used to replace nan values in output.</pre></td></tr><tr><td>CDAT.filter_map</td><td>CDAT.filter_map</td><td>devel</td><td>None</td><td>None</td><td><pre style=\"text-align: left\">Applies a filter and function to a variable defined using the `variable` parameter.\n",
       "\n",
       "    See `CDAT.where` abstract for details on supported conditions.\n",
       "    \n",
       "\n",
       "Accepts exactly 1 input.\n",
       "\n",
       "Parameters:\n",
       "    variable (str): Target variable for the process.\n",
       "    rename (list): List of pairs mapping variable to new name e.g. pr,pr_test will rename pr to pr_test.\n",
       "    func (str): A reduction process to apply e.g. max, min, sum, mean.\n",
       "    fillna (float): The number used to replace nan values in output.\n",
       "    cond (str): A condition that when true will preserve the value.\n",
       "    other (float): A value that will be used when `cond` is false.</pre></td></tr><tr><td>CDAT.log</td><td>CDAT.log</td><td>devel</td><td>None</td><td>None</td><td><pre style=\"text-align: left\">Computes the elementwise log for each variable.\n",
       "\n",
       "    Can be applied to a single variable if the parameter `variable` is used.\n",
       "    \n",
       "\n",
       "Accepts exactly 1 input.\n",
       "\n",
       "Parameters:\n",
       "    variable (str): Target variable for the process.\n",
       "    rename (list): List of pairs mapping variable to new name e.g. pr,pr_test will rename pr to pr_test.\n",
       "    fillna (float): The number used to replace nan values in output.</pre></td></tr><tr><td>CDAT.max</td><td>CDAT.max</td><td>devel</td><td>None</td><td>None</td><td><pre style=\"text-align: left\">Computes the maximum for each variable over one or more axes.\n",
       "\n",
       "    Can be applied to a single variable if the parameter `variable` is used.\n",
       "    \n",
       "\n",
       "Accepts exactly 1 input.\n",
       "\n",
       "Parameters:\n",
       "    variable (str): Target variable for the process.\n",
       "    rename (list): List of pairs mapping variable to new name e.g. pr,pr_test will rename pr to pr_test.\n",
       "    fillna (float): The number used to replace nan values in output.\n",
       "    axes (list): A list of axes used to reduce dimensionality.</pre></td></tr><tr><td>CDAT.mean</td><td>CDAT.mean</td><td>devel</td><td>None</td><td>None</td><td><pre style=\"text-align: left\">Computes the mean for each variable over one or more axes.\n",
       "\n",
       "    Can be applied to a single variable if the parameter `variable` is used.\n",
       "    \n",
       "\n",
       "Accepts exactly 1 input.\n",
       "\n",
       "Parameters:\n",
       "    variable (str): Target variable for the process.\n",
       "    rename (list): List of pairs mapping variable to new name e.g. pr,pr_test will rename pr to pr_test.\n",
       "    fillna (float): The number used to replace nan values in output.\n",
       "    axes (list): A list of axes used to reduce dimensionality.</pre></td></tr><tr><td>CDAT.min</td><td>CDAT.min</td><td>devel</td><td>None</td><td>None</td><td><pre style=\"text-align: left\">Computes the minimum for each variable over one or more axes.\n",
       "\n",
       "    Can be applied to a single variable if the parameter `variable` is used.\n",
       "    \n",
       "\n",
       "Accepts exactly 1 input.\n",
       "\n",
       "Parameters:\n",
       "    variable (str): Target variable for the process.\n",
       "    rename (list): List of pairs mapping variable to new name e.g. pr,pr_test will rename pr to pr_test.\n",
       "    fillna (float): The number used to replace nan values in output.\n",
       "    axes (list): A list of axes used to reduce dimensionality.</pre></td></tr><tr><td>CDAT.multiply</td><td>CDAT.multiply</td><td>devel</td><td>None</td><td>None</td><td><pre style=\"text-align: left\">Computes the elementwise multi for each variable using a variable or constant.\n",
       "\n",
       "    Can be applied to a single variable if the parameter `variable` is used.\n",
       "    \n",
       "\n",
       "Accepts 1 to 2 inputs.\n",
       "\n",
       "Parameters:\n",
       "    variable (str): Target variable for the process.\n",
       "    rename (list): List of pairs mapping variable to new name e.g. pr,pr_test will rename pr to pr_test.\n",
       "    fillna (float): The number used to replace nan values in output.\n",
       "    const (float): A value that will be applied element-wise.</pre></td></tr><tr><td>CDAT.power</td><td>CDAT.power</td><td>devel</td><td>None</td><td>None</td><td><pre style=\"text-align: left\">Computes the elementwise power for each variable using a variable or constant.\n",
       "\n",
       "    Can be applied to a single variable if the parameter `variable` is used.\n",
       "    \n",
       "\n",
       "Accepts exactly 1 input.\n",
       "\n",
       "Parameters:\n",
       "    variable (str): Target variable for the process.\n",
       "    rename (list): List of pairs mapping variable to new name e.g. pr,pr_test will rename pr to pr_test.\n",
       "    fillna (float): The number used to replace nan values in output.\n",
       "    const (float): A value that will be applied element-wise.</pre></td></tr><tr><td>CDAT.subset</td><td>CDAT.subset</td><td>devel</td><td>None</td><td>None</td><td><pre style=\"text-align: left\">Computes the subset of each variable.\n",
       "\n",
       "    When subsetting by values selection can be controlled with the `method` parameter.\n",
       "    Possible values: pad, backfill, nearest\n",
       "    \n",
       "\n",
       "Accepts exactly 1 input.\n",
       "\n",
       "Parameters:\n",
       "    variable (str): Target variable for the process.\n",
       "    rename (list): List of pairs mapping variable to new name e.g. pr,pr_test will rename pr to pr_test.\n",
       "    fillna (float): The number used to replace nan values in output.\n",
       "    method (str): method to apply</pre></td></tr><tr><td>CDAT.subtract</td><td>CDAT.subtract</td><td>devel</td><td>None</td><td>None</td><td><pre style=\"text-align: left\">Computes the difference between inputs or a constant.\n",
       "\n",
       "    Can be applied to a single variable if the parameter `variable` is used.\n",
       "    \n",
       "\n",
       "Accepts 1 to 2 inputs.\n",
       "\n",
       "Parameters:\n",
       "    variable (str): Target variable for the process.\n",
       "    rename (list): List of pairs mapping variable to new name e.g. pr,pr_test will rename pr to pr_test.\n",
       "    fillna (float): The number used to replace nan values in output.\n",
       "    const (float): A value that will be applied element-wise.</pre></td></tr><tr><td>CDAT.sum</td><td>CDAT.sum</td><td>devel</td><td>None</td><td>None</td><td><pre style=\"text-align: left\">Computes the sum for each variable over one or more axes.\n",
       "\n",
       "    Can be applied to a single variable if the parameter `variable` is used.\n",
       "    \n",
       "\n",
       "Accepts exactly 1 input.\n",
       "\n",
       "Parameters:\n",
       "    variable (str): Target variable for the process.\n",
       "    rename (list): List of pairs mapping variable to new name e.g. pr,pr_test will rename pr to pr_test.\n",
       "    fillna (float): The number used to replace nan values in output.\n",
       "    axes (list): A list of axes used to reduce dimensionality.</pre></td></tr><tr><td>CDAT.merge</td><td>CDAT.merge</td><td>devel</td><td>None</td><td>None</td><td><pre style=\"text-align: left\">Merge variables from multiple inputs.\n",
       "\n",
       "    Use parameter `compat` to control how conflicts are handled.\n",
       "    \n",
       "\n",
       "Accepts a minimum of 2 inputs.\n",
       "\n",
       "Parameters:\n",
       "    compat (str): Method used to resolve conflicts, defaults to no_conflicts, can be changed to override to bypass checks.</pre></td></tr><tr><td>CDAT.where</td><td>CDAT.where</td><td>devel</td><td>None</td><td>None</td><td><pre style=\"text-align: left\">Filters values based on condition.\n",
       "\n",
       "    Supported comparisons: >, >=, <, <=, ==, !=\n",
       "\n",
       "    Left hand side should be a variable or axis name and the right can be an int or float.\n",
       "\n",
       "    Examples:\n",
       "        lon>180\n",
       "        pr>0.000023408767\n",
       "        pr>=prw\n",
       "    \n",
       "\n",
       "Accepts exactly 1 input.\n",
       "\n",
       "Parameters:\n",
       "    variable (str): Target variable for the process.\n",
       "    rename (list): List of pairs mapping variable to new name e.g. pr,pr_test will rename pr to pr_test.\n",
       "    fillna (float): The number used to replace nan values in output.\n",
       "    other (float): A value that will be used when `cond` is false.\n",
       "    cond (str): A condition that when true will preserve the value.</pre></td></tr><tr><td>CDAT.groupby_bins</td><td>CDAT.groupby_bins</td><td>devel</td><td>None</td><td>None</td><td><pre style=\"text-align: left\">Groups values of a variable into bins.\n",
       "\n",
       "    This process is not lazily evaluated and it's processing time will scale with the size of input data.\n",
       "\n",
       "    If the input to this process contains multiple variables use `variable` to specify which one to use.\n",
       "\n",
       "    A variable can be grouped based of the values of second variables values, to accomplish this both variables\n",
       "    must be present in the input, this can be accomplished by having the variables in the source or by calling\n",
       "    `CDAT.merge` with multiple inputs.\n",
       "    \n",
       "\n",
       "Accepts exactly 1 input.\n",
       "\n",
       "Parameters:\n",
       "    variable (str): Target variable for the process.\n",
       "    bins (list): A list of bins boundaries. e.g. 0, 10, 20 would create 2 bins (0-10), (10, 20).</pre></td></tr><tr><td>CDAT.count</td><td>CDAT.count</td><td>devel</td><td>None</td><td>None</td><td><pre style=\"text-align: left\">Computes count on each variable.\n",
       "\n",
       "    Can be applied to a single variable if the parameter `variable` is used.\n",
       "    \n",
       "\n",
       "Accepts exactly 1 input.\n",
       "\n",
       "Parameters:\n",
       "    variable (str): Target variable for the process.\n",
       "    rename (list): List of pairs mapping variable to new name e.g. pr,pr_test will rename pr to pr_test.\n",
       "    fillna (float): The number used to replace nan values in output.</pre></td></tr><tr><td>CDAT.squeeze</td><td>CDAT.squeeze</td><td>devel</td><td>None</td><td>None</td><td><pre style=\"text-align: left\">Squeezes each variable.\n",
       "\n",
       "    Can be applied to a single variable if the parameter `variable` is used.\n",
       "    \n",
       "\n",
       "Accepts exactly 1 input.\n",
       "\n",
       "Parameters:\n",
       "    variable (str): Target variable for the process.\n",
       "    rename (list): List of pairs mapping variable to new name e.g. pr,pr_test will rename pr to pr_test.\n",
       "    fillna (float): The number used to replace nan values in output.</pre></td></tr><tr><td>CDAT.std</td><td>CDAT.std</td><td>devel</td><td>None</td><td>None</td><td><pre style=\"text-align: left\">Computes the standard deviation on each variable over one or more axes.\n",
       "\n",
       "    Can be applied to a single variable if the parameter `variable` is used.\n",
       "    \n",
       "\n",
       "Accepts exactly 1 input.\n",
       "\n",
       "Parameters:\n",
       "    variable (str): Target variable for the process.\n",
       "    rename (list): List of pairs mapping variable to new name e.g. pr,pr_test will rename pr to pr_test.\n",
       "    fillna (float): The number used to replace nan values in output.\n",
       "    axes (list): A list of axes used to reduce dimensionality.</pre></td></tr><tr><td>CDAT.var</td><td>CDAT.var</td><td>devel</td><td>None</td><td>None</td><td><pre style=\"text-align: left\">Compute the variance on each variable over one or more axes.\n",
       "\n",
       "    Can be applied to a single variable if the parameter `variable` is used.\n",
       "    \n",
       "\n",
       "Accepts exactly 1 input.\n",
       "\n",
       "Parameters:\n",
       "    variable (str): Target variable for the process.\n",
       "    rename (list): List of pairs mapping variable to new name e.g. pr,pr_test will rename pr to pr_test.\n",
       "    fillna (float): The number used to replace nan values in output.\n",
       "    axes (list): A list of axes used to reduce dimensionality.</pre></td></tr><tr><td>CDAT.sqrt</td><td>CDAT.sqrt</td><td>devel</td><td>None</td><td>None</td><td><pre style=\"text-align: left\">Compute the elementwise square root on each variable.\n",
       "\n",
       "    Can be applied to a single variable if the parameter `variable` is used.\n",
       "    \n",
       "\n",
       "Accepts exactly 1 input.\n",
       "\n",
       "Parameters:\n",
       "    variable (str): Target variable for the process.\n",
       "    rename (list): List of pairs mapping variable to new name e.g. pr,pr_test will rename pr to pr_test.\n",
       "    fillna (float): The number used to replace nan values in output.</pre></td></tr></table></div>"
      ],
      "text/plain": [
       "WPSClient(url='https://aims2.llnl.gov/wps', log=False, log_file=None, verify=True, version=None, cert='1.0.0', headers={})"
      ]
     },
     "execution_count": 5,
     "metadata": {},
     "output_type": "execute_result"
    }
   ],
   "source": [
    "auth = llnl_client.LLNLAuthenticator(server_url, store=True)\n",
    "\n",
    "client = llnl_client.LLNLClient(wps_url, auth=auth)\n",
    "client"
   ]
  },
  {
   "cell_type": "markdown",
   "metadata": {},
   "source": [
    "# Creating inputs and domains\n",
    "\n",
    "Next we'll create a single input consisting of an single OpeNDAP file and a domain which subsets along the `time` and `lat` axes."
   ]
  },
  {
   "cell_type": "code",
   "execution_count": 6,
   "metadata": {},
   "outputs": [],
   "source": [
    "inputs = cwt.Variable('http://aims3.llnl.gov/thredds/dodsC/css03_data/CMIP6/CMIP/NASA-GISS/GISS-E2-1-G/historical/r10i1p1f1/Amon/tas/gn/v20180830/tas_Amon_GISS-E2-1-G_historical_r10i1p1f1_gn_190101-195012.nc', 'tas')"
   ]
  },
  {
   "cell_type": "code",
   "execution_count": 7,
   "metadata": {},
   "outputs": [
    {
     "data": {
      "text/html": [
       "<div><h1>CDAT.subset (CDAT.subset)</h1></div><hr/><div><h3>Abstract</h3><pre>Computes the subset of each variable.\n",
       "\n",
       "    When subsetting by values selection can be controlled with the `method` parameter.\n",
       "    Possible values: pad, backfill, nearest\n",
       "    \n",
       "\n",
       "Accepts exactly 1 input.\n",
       "\n",
       "Parameters:\n",
       "    variable (str): Target variable for the process.\n",
       "    rename (list): List of pairs mapping variable to new name e.g. pr,pr_test will rename pr to pr_test.\n",
       "    fillna (float): The number used to replace nan values in output.\n",
       "    method (str): method to apply</pre><h3>Inputs</h3><ul><li>Variable(name='1cebf986', uri='http://aims3.llnl.gov/thredds/dodsC/css03_data/CMIP6/CMIP/NASA-GISS/GISS-E2-1-G/historical/r10i1p1f1/Amon/tas/gn/v20180830/tas_Amon_GISS-E2-1-G_historical_r10i1p1f1_gn_190101-195012.nc', var_name='tas', domain=None, mime_type=None)</li></ul><h3>Domain</h3><ul><li>Domain(Dimension(name='time', start='1910', end='1925', step=1, crs=CRS(name='timestamps')), Dimension(name='lat', start=0, end=90, step=1, crs=CRS(name='values')), mask=None, name='d30eb4c9')</li></ul></div>"
      ],
      "text/plain": [
       "Process(name=9173f0c6, identifier=CDAT.subset, inputs=[Variable(name='1cebf986', uri='http://aims3.llnl.gov/thredds/dodsC/css03_data/CMIP6/CMIP/NASA-GISS/GISS-E2-1-G/historical/r10i1p1f1/Amon/tas/gn/v20180830/tas_Amon_GISS-E2-1-G_historical_r10i1p1f1_gn_190101-195012.nc', var_name='tas', domain=None, mime_type=None)], parameters={}, domain=Domain(Dimension(name='time', start='1910', end='1925', step=1, crs=CRS(name='timestamps')), Dimension(name='lat', start=0, end=90, step=1, crs=CRS(name='values')), mask=None, name='d30eb4c9'), title=CDAT.subset, process_outputs=[], data_inputs=[], status_supported=None, store_supported=None, process_version=devel)"
      ]
     },
     "execution_count": 7,
     "metadata": {},
     "output_type": "execute_result"
    }
   ],
   "source": [
    "subset = client.CDAT.subset(inputs, domain=cwt.Domain(time=('1910', '1925'), lat=(0, 90)))\n",
    "subset"
   ]
  },
  {
   "cell_type": "markdown",
   "metadata": {},
   "source": [
    "# Execute the process server-side\n",
    "\n",
    "Here we'll request to execute the process and wait on it's output."
   ]
  },
  {
   "cell_type": "code",
   "execution_count": 8,
   "metadata": {},
   "outputs": [
    {
     "name": "stdout",
     "output_type": "stream",
     "text": [
      "ProcessAccepted None\n",
      "ProcessStarted Building output for '6806d2dc' - 'CDAT.subset' 0.0\n",
      "ProcessStarted Processing 55.0\n",
      "ProcessStarted Processing 100.0\n",
      "ProcessSucceeded\n"
     ]
    },
    {
     "data": {
      "text/plain": [
       "True"
      ]
     },
     "execution_count": 8,
     "metadata": {},
     "output_type": "execute_result"
    }
   ],
   "source": [
    "client.execute(subset)\n",
    "\n",
    "subset.wait()"
   ]
  },
  {
   "cell_type": "markdown",
   "metadata": {},
   "source": [
    "# Job History\n",
    "\n",
    "Using the `LLNLClient` we're provided access to our job history.\n",
    "\n",
    "This defaults to 10 entries per page. You can navigate the pages using `jobs.previous()` and `jobs.next()` calls."
   ]
  },
  {
   "cell_type": "code",
   "execution_count": 9,
   "metadata": {},
   "outputs": [
    {
     "data": {
      "text/html": [
       "<div><h2>Jobs</h2></div><table><tr><th>ID</th><th>Operation</th><th>Elapsed</th><th>Status</th><th>Accepted</th></tr><tr><td>1</td><td>CDAT.subset</td><td>55.308534</td><td>ProcessSucceeded</td><td>2020-09-14T22:58:55.547767+00:00</td></tr><tr><td>2</td><td>CDAT.subset</td><td>54.216669</td><td>ProcessSucceeded</td><td>2020-09-15T16:23:06.624776+00:00</td></tr><tr><td>3</td><td>CDAT.subset</td><td>53.153557</td><td>ProcessSucceeded</td><td>2020-09-16T16:09:56.525962+00:00</td></tr><tr><td>4</td><td>CDAT.subset</td><td>53.74164</td><td>ProcessSucceeded</td><td>2020-09-17T09:38:26.195375+00:00</td></tr><tr><td>5</td><td>CDAT.subset</td><td>53.390830</td><td>ProcessSucceeded</td><td>2020-09-17T15:15:41.396644+00:00</td></tr><tr><td>6</td><td>CDAT.subset</td><td>49.65060</td><td>ProcessSucceeded</td><td>2020-09-17T15:17:36.775099+00:00</td></tr><tr><td>7</td><td>CDAT.subset</td><td>53.198471</td><td>ProcessSucceeded</td><td>2020-09-17T15:39:21.502035+00:00</td></tr><tr><td>8</td><td>CDAT.subset</td><td>101.212967</td><td>ProcessSucceeded</td><td>2020-09-17T15:39:51.714120+00:00</td></tr><tr><td>9</td><td>CDAT.subset</td><td>101.295139</td><td>ProcessSucceeded</td><td>2020-09-17T15:40:08.189755+00:00</td></tr><tr><td>10</td><td>CDAT.subset</td><td>50.280597</td><td>ProcessSucceeded</td><td>2020-09-17T15:42:57.661258+00:00</td></tr></table></div><div><p>Display 0 - 10 of 18 entries</p></div>"
      ],
      "text/plain": [
       "<cwt.llnl_client.JobListWrapper at 0x7fffed302410>"
      ]
     },
     "execution_count": 9,
     "metadata": {},
     "output_type": "execute_result"
    }
   ],
   "source": [
    "jobs = client.jobs()\n",
    "\n",
    "# next page of jobs\n",
    "jobs.next()\n",
    "\n",
    "# previous page of jobs\n",
    "jobs.previous()\n",
    "\n",
    "jobs"
   ]
  },
  {
   "cell_type": "markdown",
   "metadata": {},
   "source": [
    "## You can view the specifics of a job\n",
    "\n",
    "Using the ID column from the job listing you can view the details of a job."
   ]
  },
  {
   "cell_type": "code",
   "execution_count": 11,
   "metadata": {},
   "outputs": [
    {
     "data": {
      "text/html": [
       "<table><tr><th>Status</th><th>Created</th><th>Output</th></tr><tr><td>ProcessAccepted</td><td>2020-09-14T15:58:55.547767-07:00</td><td style=\"text-align: left\">2020-09-14T15:58:56.076009-07:00 Validating inputs and parameters of CDAT.subset (71eae287) 0.0</td></tr><tr><td></td><td></td><td style=\"text-align: left\">2020-09-14T15:58:56.037298-07:00 Validating workflow 0.0</td></tr><tr><td>ProcessStarted</td><td>2020-09-14T15:58:56.233728-07:00</td><td style=\"text-align: left\">2020-09-14T15:58:56.641166-07:00 Preparing inputs for process CDAT.subset (71eae287) 0.0</td></tr><tr><td></td><td></td><td style=\"text-align: left\">2020-09-14T15:58:57.143426-07:00 Gathered 1 inputs for process CDAT.subset (71eae287) 0.0</td></tr><tr><td></td><td></td><td style=\"text-align: left\">2020-09-14T15:58:57.184960-07:00 Building process CDAT.subset (71eae287) 0.0</td></tr><tr><td></td><td></td><td style=\"text-align: left\">2020-09-14T15:58:57.248382-07:00 Subset dimension time (600,) -> (192,) 0.0</td></tr><tr><td></td><td></td><td style=\"text-align: left\">2020-09-14T15:58:57.294150-07:00 Subset dimension lat (90,) -> (45,) 0.0</td></tr><tr><td></td><td></td><td style=\"text-align: left\">2020-09-14T15:58:57.350037-07:00 Preparing to execute workflow 0.0</td></tr><tr><td></td><td></td><td style=\"text-align: left\">2020-09-14T15:59:00.146332-07:00 Building output for '71eae287' - 'CDAT.subset' 0.0</td></tr><tr><td></td><td></td><td style=\"text-align: left\">2020-09-14T15:59:20.092499-07:00 Setting output filename CDAT.subset_71eae287_99a5543c_1910-1925.nc 0.0</td></tr><tr><td></td><td></td><td style=\"text-align: left\">2020-09-14T15:59:20.137351-07:00 Gathered 1 outputs 0.0</td></tr><tr><td></td><td></td><td style=\"text-align: left\">2020-09-14T15:59:20.188353-07:00 Tracking 1 futures 0.0</td></tr><tr><td></td><td></td><td style=\"text-align: left\">2020-09-14T15:59:20.242408-07:00 Processing 16.0</td></tr><tr><td></td><td></td><td style=\"text-align: left\">2020-09-14T15:59:20.339247-07:00 Processing 33.0</td></tr><tr><td></td><td></td><td style=\"text-align: left\">2020-09-14T15:59:20.437890-07:00 Processing 50.0</td></tr><tr><td></td><td></td><td style=\"text-align: left\">2020-09-14T15:59:20.539078-07:00 Processing 61.0</td></tr><tr><td></td><td></td><td style=\"text-align: left\">2020-09-14T15:59:20.741628-07:00 Processing 72.0</td></tr><tr><td></td><td></td><td style=\"text-align: left\">2020-09-14T15:59:20.942579-07:00 Processing 83.0</td></tr><tr><td></td><td></td><td style=\"text-align: left\">2020-09-14T15:59:21.148994-07:00 Processing 100.0</td></tr><tr><td>ProcessSucceeded</td><td>2020-09-14T15:59:51.542262-07:00</td><td style=\"text-align: left\"><pre><a href=\"https://aims2.llnl.gov/threddsCWT/dodsC/public/2/1/CDAT.subset_71eae287_99a5543c_1910-1925.nc\" target=\"_blank\">https://aims2.llnl.gov/threddsCWT/dodsC/public/2/1/CDAT.subset_71eae287_99a5543c_1910-1925.nc</a></pre></td></tr></table>"
      ],
      "text/plain": [
       "<cwt.llnl_client.JobWrapper at 0x7fffed322610>"
      ]
     },
     "execution_count": 11,
     "metadata": {},
     "output_type": "execute_result"
    }
   ],
   "source": [
    "jobs[1]"
   ]
  },
  {
   "cell_type": "markdown",
   "metadata": {},
   "source": [
    "# Plotting the results"
   ]
  },
  {
   "cell_type": "code",
   "execution_count": 12,
   "metadata": {},
   "outputs": [],
   "source": [
    "import cdms2\n",
    "import cartopy.crs as ccrs\n",
    "from cartopy.mpl.ticker import LongitudeFormatter, LatitudeFormatter\n",
    "from matplotlib import pyplot as plt"
   ]
  },
  {
   "cell_type": "code",
   "execution_count": 13,
   "metadata": {},
   "outputs": [
    {
     "name": "stderr",
     "output_type": "stream",
     "text": [
      "/home/jovyan/conda-envs/cwt/lib/python3.7/site-packages/cdms2/tvariable.py:281: DeprecationWarning: Non-scalar arrays for the fill value are deprecated. Use arrays with scalar values instead. The filled function still supports any array as `fill_value`.\n",
      "  self._missing = numpy.array(value).astype(self.dtype)\n"
     ]
    }
   ],
   "source": [
    "with cdms2.open(subset.output.uri) as f:\n",
    "    data = f('tas', time=0, squeeze=1)"
   ]
  },
  {
   "cell_type": "code",
   "execution_count": 14,
   "metadata": {},
   "outputs": [
    {
     "data": {
      "text/plain": [
       "<matplotlib.colorbar.Colorbar at 0x7fffb2e89650>"
      ]
     },
     "execution_count": 14,
     "metadata": {},
     "output_type": "execute_result"
    },
    {
     "data": {
      "image/png": "[encoded data removed]",
      "text/plain": [
       "<Figure size 1800x2880 with 2 Axes>"
      ]
     },
     "metadata": {
      "needs_background": "light"
     },
     "output_type": "display_data"
    }
   ],
   "source": [
    "%matplotlib inline\n",
    "\n",
    "fig = plt.figure(figsize=(25, 40))\n",
    "\n",
    "ax1 = plt.subplot(4, 2, 1, projection=ccrs.PlateCarree(central_longitude=180))\n",
    "ax1.coastlines()\n",
    "im1 = ax1.contourf(data.getLongitude(), data.getLatitude(), data, 60, transform=ccrs.PlateCarree())\n",
    "ax1.set_xticks(data.getLongitude()[::15], crs=ccrs.PlateCarree())\n",
    "ax1.set_yticks(data.getLatitude()[::4], crs=ccrs.PlateCarree())\n",
    "\n",
    "ax1.xaxis.set_major_formatter(LongitudeFormatter())\n",
    "ax1.yaxis.set_major_formatter(LatitudeFormatter())\n",
    "\n",
    "plt.colorbar(im1, orientation='horizontal')"
   ]
  },
  {
   "cell_type": "code",
   "execution_count": null,
   "metadata": {},
   "outputs": [],
   "source": []
  }
 ],
 "metadata": {
  "kernelspec": {
   "display_name": "Python 3",
   "language": "python",
   "name": "python3"
  },
  "language_info": {
   "codemirror_mode": {
    "name": "ipython",
    "version": 3
   },
   "file_extension": ".py",
   "mimetype": "text/x-python",
   "name": "python",
   "nbconvert_exporter": "python",
   "pygments_lexer": "ipython3",
   "version": "3.8.5"
  }
 },
 "nbformat": 4,
 "nbformat_minor": 4
}
