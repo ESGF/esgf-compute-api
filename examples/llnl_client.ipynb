{
 "cells": [
  {
   "cell_type": "markdown",
   "metadata": {},
   "source": [
    "# LLNL WPS Client\n",
    "\n",
    "This tutorial will demonstrate the features of the LLNL WPS Client.\n",
    "\n",
    "**Features**\n",
    "- LLNLAuthenticator handles authentication and token retrieval.\n",
    "  - Can store token in between sessions.\n",
    "- LLNLClient provides access to job management.\n",
    "\n",
    "First we'll run a little setup then move onto looking at [authentication](#Authentication)."
   ]
  },
  {
   "cell_type": "code",
   "execution_count": 10,
   "metadata": {},
   "outputs": [],
   "source": [
    "import os\n",
    "import owslib\n",
    "import cwt\n",
    "from cwt import llnl_client\n",
    "\n",
    "server_url = os.environ.get('SERVER_URL', 'https://aims2.llnl.gov/')\n",
    "verify = bool(os.environ.get('VERIFY', True))\n",
    "wps_url = os.environ.get('WPS_URL', 'https://aims2.llnl.gov/wps')"
   ]
  },
  {
   "cell_type": "markdown",
   "metadata": {},
   "source": [
    "## Authentication\n",
    "\n",
    "By default 3 authenticators are offered.\n",
    "\n",
    "* [OWSLib authentication](#OWSLib-authentication)\n",
    "* [LLNL authentication](#LLNL-authentication)\n",
    "* [Token Authenticator](#Token-authentication) \n",
    "\n",
    "### OWSLib authentication\n",
    "\n",
    "This method provides access to secure WPS servers requiring basic authentication or certificates."
   ]
  },
  {
   "cell_type": "code",
   "execution_count": 3,
   "metadata": {},
   "outputs": [
    {
     "data": {
      "text/plain": [
       "<Authentication shared=False username=test password=test cert=None verify=True>"
      ]
     },
     "execution_count": 3,
     "metadata": {},
     "output_type": "execute_result"
    }
   ],
   "source": [
    "auth = owslib.util.Authentication(username='test', password='test')\n",
    "auth"
   ]
  },
  {
   "cell_type": "markdown",
   "metadata": {},
   "source": [
    "### LLNL authentication\n",
    "\n",
    "This method utilizes the LLNL compute authentication which uses ESGF OpenID service."
   ]
  },
  {
   "cell_type": "code",
   "execution_count": 4,
   "metadata": {},
   "outputs": [
    {
     "data": {
      "text/plain": [
       "LLNLAuthenticator(server_url='https://aims2.llnl.gov/', openid_url='https://esgf-node.llnl.gov/esgf-idp/openid', verify=True)"
      ]
     },
     "execution_count": 4,
     "metadata": {},
     "output_type": "execute_result"
    }
   ],
   "source": [
    "auth = llnl_client.LLNLAuthenticator(server_url=server_url)\n",
    "auth"
   ]
  },
  {
   "cell_type": "markdown",
   "metadata": {},
   "source": [
    "### Token authentication\n",
    "\n",
    "This method uses and existing token to that will be passed in the header as `Authorization: Bearer <token>`."
   ]
  },
  {
   "cell_type": "code",
   "execution_count": 6,
   "metadata": {},
   "outputs": [
    {
     "data": {
      "text/plain": [
       "<cwt.auth.TokenAuthenticator at 0x7fbe5f7f9370>"
      ]
     },
     "execution_count": 6,
     "metadata": {},
     "output_type": "execute_result"
    }
   ],
   "source": [
    "auth = llnl_client.TokenAuthenticator('token')\n",
    "auth"
   ]
  },
  {
   "cell_type": "markdown",
   "metadata": {},
   "source": [
    "# Job history\n",
    "\n",
    "The LLNL client provides access to job history and details."
   ]
  },
  {
   "cell_type": "code",
   "execution_count": 8,
   "metadata": {},
   "outputs": [
    {
     "data": {
      "text/plain": [
       "WPSClient(url='https://aims2.llnl.gov/wps', log=False, log_file=None, verify=True, version=None, cert='1.0.0', headers={})"
      ]
     },
     "execution_count": 8,
     "metadata": {},
     "output_type": "execute_result"
    }
   ],
   "source": [
    "auth = llnl_client.LLNLAuthenticator(server_url)\n",
    "\n",
    "client = llnl_client.LLNLClient(wps_url, auth=auth)\n",
    "client"
   ]
  },
  {
   "cell_type": "code",
   "execution_count": 11,
   "metadata": {},
   "outputs": [],
   "source": [
    "inputs = cwt.Variable('http://aims3.llnl.gov/thredds/dodsC/css03_data/CMIP6/CMIP/NASA-GISS/GISS-E2-1-G/historical/r10i1p1f1/Amon/tas/gn/v20180830/tas_Amon_GISS-E2-1-G_historical_r10i1p1f1_gn_190101-195012.nc', 'tas')"
   ]
  },
  {
   "cell_type": "code",
   "execution_count": 12,
   "metadata": {},
   "outputs": [
    {
     "data": {
      "text/plain": [
       "Process(name=77c4d444, identifier=CDAT.subset, inputs=[Variable(name='c51f963d', uri='http://aims3.llnl.gov/thredds/dodsC/css03_data/CMIP6/CMIP/NASA-GISS/GISS-E2-1-G/historical/r10i1p1f1/Amon/tas/gn/v20180830/tas_Amon_GISS-E2-1-G_historical_r10i1p1f1_gn_190101-195012.nc', var_name='tas', domain=None, mime_type=None)], parameters={}, domain=Domain(Dimension(name='time', start='1910', end='1925', step=1, crs=CRS(name='timestamps')), Dimension(name='lat', start=0, end=90, step=1, crs=CRS(name='values')), mask=None, name='cfc5d2a6'), title=CDAT.subset, process_outputs=[], data_inputs=[], status_supported=None, store_supported=None, process_version=devel)"
      ]
     },
     "execution_count": 12,
     "metadata": {},
     "output_type": "execute_result"
    }
   ],
   "source": [
    "subset = client.CDAT.subset(inputs, domain=cwt.Domain(time=('1910', '1925'), lat=(0, 90)))\n",
    "subset"
   ]
  },
  {
   "cell_type": "code",
   "execution_count": 13,
   "metadata": {},
   "outputs": [
    {
     "name": "stdout",
     "output_type": "stream",
     "text": [
      "ProcessAccepted None\n",
      "ProcessAccepted Validating inputs of CDAT.subset (f0ff3a53)\n",
      "ProcessStarted Preparing inputs for process CDAT.subset (f0ff3a53) 0\n",
      "ProcessStarted Building output for 'f0ff3a53' - 'CDAT.subset' 0\n",
      "ProcessStarted Processing 0\n",
      "ProcessSucceeded None\n"
     ]
    },
    {
     "data": {
      "text/plain": [
       "True"
      ]
     },
     "execution_count": 13,
     "metadata": {},
     "output_type": "execute_result"
    }
   ],
   "source": [
    "client.execute(subset)\n",
    "\n",
    "subset.wait()"
   ]
  },
  {
   "cell_type": "markdown",
   "metadata": {},
   "source": [
    "## You can list your job history\n",
    "\n",
    "This defaults to 10 entries per page. You can navigate the pages using `jobs.previous()` and `jobs.next()` calls."
   ]
  },
  {
   "cell_type": "code",
   "execution_count": 15,
   "metadata": {},
   "outputs": [
    {
     "data": {
      "text/html": [
       "<div><h2>Jobs</h2></div><table><tr><th>ID</th><th>Operation</th><th>Elapsed</th><th>Status</th><th>Accepted</th></tr><tr><td>1</td><td>CDAT.workflow</td><td>40.839176</td><td>ProcessSucceeded</td><td>2020-04-27T23:50:06.507856+00:00</td></tr><tr><td>2</td><td>CDAT.workflow</td><td>4.16908</td><td>ProcessFailed</td><td>2020-04-28T06:10:40.100827+00:00</td></tr><tr><td>3</td><td>CDAT.workflow</td><td>0.602493</td><td>ProcessFailed</td><td>2020-04-28T06:28:48.948727+00:00</td></tr><tr><td>4</td><td>CDAT.workflow</td><td>0.702808</td><td>ProcessFailed</td><td>2020-04-28T06:43:11.890048+00:00</td></tr><tr><td>5</td><td>CDAT.workflow</td><td>171.103173</td><td>ProcessSucceeded</td><td>2020-04-28T06:47:55.650085+00:00</td></tr><tr><td>6</td><td>CDAT.workflow</td><td>70.106237</td><td>ProcessSucceeded</td><td>2020-04-28T07:15:44.621830+00:00</td></tr><tr><td>7</td><td>CDAT.workflow</td><td>No elapsed</td><td>ProcessFailed</td><td>2020-04-28T07:21:36.321473+00:00</td></tr><tr><td>8</td><td>CDAT.workflow</td><td>205.231695</td><td>ProcessFailed</td><td>2020-04-28T07:24:53.893896+00:00</td></tr><tr><td>9</td><td>CDAT.workflow</td><td>No elapsed</td><td>ProcessAccepted</td><td>2020-04-28T07:29:27.010552+00:00</td></tr><tr><td>10</td><td>CDAT.workflow</td><td>68.897268</td><td>ProcessSucceeded</td><td>2020-04-28T07:30:43.122024+00:00</td></tr></table></div><div><p>Display 0 - 10 of 34 entries</p></div>"
      ],
      "text/plain": [
       "<cwt.llnl_client.JobListWrapper at 0x7fbe5e4b2670>"
      ]
     },
     "execution_count": 15,
     "metadata": {},
     "output_type": "execute_result"
    }
   ],
   "source": [
    "jobs = client.jobs()\n",
    "\n",
    "# next page of jobs\n",
    "jobs.next()\n",
    "\n",
    "# previous page of jobs\n",
    "jobs.previous()\n",
    "\n",
    "jobs"
   ]
  },
  {
   "cell_type": "markdown",
   "metadata": {},
   "source": [
    "## You can view the specifics of a job\n",
    "\n",
    "Using the ID column from the job listing you can view the details of a job."
   ]
  },
  {
   "cell_type": "code",
   "execution_count": 16,
   "metadata": {},
   "outputs": [
    {
     "data": {
      "text/html": [
       "<table><tr><th>Status</th><th>Created</th><th>Output</th></tr><tr><td>ProcessAccepted</td><td>2020-04-27T16:50:06.507856-07:00</td><td style=\"text-align: left\">2020-04-27T16:50:08.749669-07:00 Validating parameters of CDAT.merge (13ea28db) 0.0</td></tr><tr><td></td><td></td><td style=\"text-align: left\">2020-04-27T16:50:08.683771-07:00 Validating inputs of CDAT.merge (13ea28db) 0.0</td></tr><tr><td></td><td></td><td style=\"text-align: left\">2020-04-27T16:50:08.639958-07:00 Validating parameters of CDAT.divide (dcd22654) 0.0</td></tr><tr><td></td><td></td><td style=\"text-align: left\">2020-04-27T16:50:08.566276-07:00 Validating inputs of CDAT.divide (dcd22654) 0.0</td></tr><tr><td></td><td></td><td style=\"text-align: left\">2020-04-27T16:50:08.494757-07:00 Validating parameters of CDAT.divide (1d050e39) 0.0</td></tr><tr><td></td><td></td><td style=\"text-align: left\">2020-04-27T16:50:08.452903-07:00 Validating inputs of CDAT.divide (1d050e39) 0.0</td></tr><tr><td></td><td></td><td style=\"text-align: left\">2020-04-27T16:50:08.387025-07:00 Validating parameters of CDAT.divide (fae04839) 0.0</td></tr><tr><td></td><td></td><td style=\"text-align: left\">2020-04-27T16:50:08.345092-07:00 Validating inputs of CDAT.divide (fae04839) 0.0</td></tr><tr><td></td><td></td><td style=\"text-align: left\">2020-04-27T16:50:08.280597-07:00 Validating parameters of CDAT.divide (489265f2) 0.0</td></tr><tr><td></td><td></td><td style=\"text-align: left\">2020-04-27T16:50:08.237691-07:00 Validating inputs of CDAT.divide (489265f2) 0.0</td></tr><tr><td></td><td></td><td style=\"text-align: left\">2020-04-27T16:50:08.175623-07:00 Validating parameters of CDAT.sqrt (4d3175ff) 0.0</td></tr><tr><td></td><td></td><td style=\"text-align: left\">2020-04-27T16:50:08.132884-07:00 Validating inputs of CDAT.sqrt (4d3175ff) 0.0</td></tr><tr><td></td><td></td><td style=\"text-align: left\">2020-04-27T16:50:08.053841-07:00 Validating parameters of CDAT.divide (82038eca) 0.0</td></tr><tr><td></td><td></td><td style=\"text-align: left\">2020-04-27T16:50:07.989545-07:00 Validating inputs of CDAT.divide (82038eca) 0.0</td></tr><tr><td></td><td></td><td style=\"text-align: left\">2020-04-27T16:50:07.945679-07:00 Validating parameters of CDAT.sqrt (1534461a) 0.0</td></tr><tr><td></td><td></td><td style=\"text-align: left\">2020-04-27T16:50:07.882502-07:00 Validating inputs of CDAT.sqrt (1534461a) 0.0</td></tr><tr><td></td><td></td><td style=\"text-align: left\">2020-04-27T16:50:07.841477-07:00 Validating parameters of CDAT.mean (1f59d7f9) 0.0</td></tr><tr><td></td><td></td><td style=\"text-align: left\">2020-04-27T16:50:07.776331-07:00 Validating inputs of CDAT.mean (1f59d7f9) 0.0</td></tr><tr><td></td><td></td><td style=\"text-align: left\">2020-04-27T16:50:07.734526-07:00 Validating parameters of CDAT.filter_map (11dbf05c) 0.0</td></tr><tr><td></td><td></td><td style=\"text-align: left\">2020-04-27T16:50:07.659967-07:00 Validating inputs of CDAT.filter_map (11dbf05c) 0.0</td></tr><tr><td></td><td></td><td style=\"text-align: left\">2020-04-27T16:50:07.593514-07:00 Validating parameters of CDAT.std (66a651e2) 0.0</td></tr><tr><td></td><td></td><td style=\"text-align: left\">2020-04-27T16:50:07.551515-07:00 Validating inputs of CDAT.std (66a651e2) 0.0</td></tr><tr><td></td><td></td><td style=\"text-align: left\">2020-04-27T16:50:07.488075-07:00 Validating parameters of CDAT.count (4e679646) 0.0</td></tr><tr><td></td><td></td><td style=\"text-align: left\">2020-04-27T16:50:07.444424-07:00 Validating inputs of CDAT.count (4e679646) 0.0</td></tr><tr><td></td><td></td><td style=\"text-align: left\">2020-04-27T16:50:07.378795-07:00 Validating parameters of CDAT.filter_map (ab30ba74) 0.0</td></tr><tr><td></td><td></td><td style=\"text-align: left\">2020-04-27T16:50:07.336639-07:00 Validating inputs of CDAT.filter_map (ab30ba74) 0.0</td></tr><tr><td></td><td></td><td style=\"text-align: left\">2020-04-27T16:50:07.264205-07:00 Validating parameters of CDAT.groupby_bins (0dc9e2e4) 0.0</td></tr><tr><td></td><td></td><td style=\"text-align: left\">2020-04-27T16:50:07.192180-07:00 Validating inputs of CDAT.groupby_bins (0dc9e2e4) 0.0</td></tr><tr><td></td><td></td><td style=\"text-align: left\">2020-04-27T16:50:07.150437-07:00 Validating parameters of CDAT.multiply (9480e1f7) 0.0</td></tr><tr><td></td><td></td><td style=\"text-align: left\">2020-04-27T16:50:07.086829-07:00 Validating inputs of CDAT.multiply (9480e1f7) 0.0</td></tr><tr><td></td><td></td><td style=\"text-align: left\">2020-04-27T16:50:07.043151-07:00 Validating parameters of CDAT.merge (40835081) 0.0</td></tr><tr><td></td><td></td><td style=\"text-align: left\">2020-04-27T16:50:06.978639-07:00 Validating inputs of CDAT.merge (40835081) 0.0</td></tr><tr><td></td><td></td><td style=\"text-align: left\">2020-04-27T16:50:06.936079-07:00 Validating parameters of CDAT.subset (135e141b) 0.0</td></tr><tr><td></td><td></td><td style=\"text-align: left\">2020-04-27T16:50:06.868310-07:00 Validating inputs of CDAT.subset (135e141b) 0.0</td></tr><tr><td></td><td></td><td style=\"text-align: left\">2020-04-27T16:50:06.826059-07:00 Validating parameters of CDAT.subset (e72cba78) 0.0</td></tr><tr><td></td><td></td><td style=\"text-align: left\">2020-04-27T16:50:06.752910-07:00 Validating inputs of CDAT.subset (e72cba78) 0.0</td></tr><tr><td></td><td></td><td style=\"text-align: left\">2020-04-27T16:50:06.674310-07:00 Validating workflow 0.0</td></tr><tr><td>ProcessStarted</td><td>2020-04-27T16:50:08.940028-07:00</td><td style=\"text-align: left\">2020-04-27T16:50:49.617157-07:00 Processing 100.0</td></tr><tr><td></td><td></td><td style=\"text-align: left\">2020-04-27T16:50:49.520924-07:00 Processing 96.0</td></tr><tr><td></td><td></td><td style=\"text-align: left\">2020-04-27T16:50:47.099650-07:00 Processing 92.0</td></tr><tr><td></td><td></td><td style=\"text-align: left\">2020-04-27T16:50:46.594364-07:00 Processing 89.0</td></tr><tr><td></td><td></td><td style=\"text-align: left\">2020-04-27T16:50:45.582324-07:00 Processing 88.0</td></tr><tr><td></td><td></td><td style=\"text-align: left\">2020-04-27T16:50:45.481140-07:00 Processing 86.0</td></tr><tr><td></td><td></td><td style=\"text-align: left\">2020-04-27T16:50:45.381654-07:00 Processing 85.0</td></tr><tr><td></td><td></td><td style=\"text-align: left\">2020-04-27T16:50:45.279698-07:00 Processing 83.0</td></tr><tr><td></td><td></td><td style=\"text-align: left\">2020-04-27T16:50:45.178547-07:00 Processing 81.0</td></tr><tr><td></td><td></td><td style=\"text-align: left\">2020-04-27T16:50:45.079627-07:00 Processing 78.0</td></tr><tr><td></td><td></td><td style=\"text-align: left\">2020-04-27T16:50:44.981177-07:00 Processing 76.0</td></tr><tr><td></td><td></td><td style=\"text-align: left\">2020-04-27T16:50:44.878200-07:00 Processing 74.0</td></tr><tr><td></td><td></td><td style=\"text-align: left\">2020-04-27T16:50:44.774378-07:00 Processing 68.0</td></tr><tr><td></td><td></td><td style=\"text-align: left\">2020-04-27T16:50:44.675596-07:00 Processing 57.0</td></tr><tr><td></td><td></td><td style=\"text-align: left\">2020-04-27T16:50:44.574528-07:00 Processing 44.0</td></tr><tr><td></td><td></td><td style=\"text-align: left\">2020-04-27T16:50:44.474243-07:00 Processing 33.0</td></tr><tr><td></td><td></td><td style=\"text-align: left\">2020-04-27T16:50:44.371011-07:00 Processing 27.0</td></tr><tr><td></td><td></td><td style=\"text-align: left\">2020-04-27T16:50:44.269736-07:00 Processing 25.0</td></tr><tr><td></td><td></td><td style=\"text-align: left\">2020-04-27T16:50:44.170774-07:00 Processing 13.0</td></tr><tr><td></td><td></td><td style=\"text-align: left\">2020-04-27T16:50:43.867334-07:00 Processing 9.0</td></tr><tr><td></td><td></td><td style=\"text-align: left\">2020-04-27T16:50:43.363449-07:00 Processing 8.0</td></tr><tr><td></td><td></td><td style=\"text-align: left\">2020-04-27T16:50:40.742010-07:00 Processing 2.0</td></tr><tr><td></td><td></td><td style=\"text-align: left\">2020-04-27T16:50:40.643237-07:00 Processing 1.0</td></tr><tr><td></td><td></td><td style=\"text-align: left\">2020-04-27T16:50:32.356630-07:00 Processing 0.0</td></tr><tr><td></td><td></td><td style=\"text-align: left\">2020-04-27T16:50:31.949497-07:00 Tracking 1 futures 0.0</td></tr><tr><td></td><td></td><td style=\"text-align: left\">2020-04-27T16:50:30.850975-07:00 Gathered 1 outputs 0.0</td></tr><tr><td></td><td></td><td style=\"text-align: left\">2020-04-27T16:50:30.807709-07:00 Setting output filename CDAT.merge_13ea28db_efe78a0a.nc 0.0</td></tr><tr><td></td><td></td><td style=\"text-align: left\">2020-04-27T16:50:30.637299-07:00 Building output for '13ea28db' - 'CDAT.merge' 0.0</td></tr><tr><td></td><td></td><td style=\"text-align: left\">2020-04-27T16:50:30.567954-07:00 Preparing to execute workflow 0.0</td></tr><tr><td></td><td></td><td style=\"text-align: left\">2020-04-27T16:50:30.494997-07:00 Merging 6 variable using compat 'override' 0.0</td></tr><tr><td></td><td></td><td style=\"text-align: left\">2020-04-27T16:50:30.452220-07:00 Building process CDAT.merge (13ea28db) 0.0</td></tr><tr><td></td><td></td><td style=\"text-align: left\">2020-04-27T16:50:30.388836-07:00 Gathered 6 inputs for process CDAT.merge (13ea28db) 0.0</td></tr><tr><td></td><td></td><td style=\"text-align: left\">2020-04-27T16:50:30.346865-07:00 Preparing inputs for process CDAT.merge (13ea28db) 0.0</td></tr><tr><td></td><td></td><td style=\"text-align: left\">2020-04-27T16:50:30.286598-07:00 Renaming variables with mapping {'pr': 'std_error_precip'} 0.0</td></tr><tr><td></td><td></td><td style=\"text-align: left\">2020-04-27T16:50:30.238272-07:00 Building process CDAT.divide (dcd22654) 0.0</td></tr><tr><td></td><td></td><td style=\"text-align: left\">2020-04-27T16:50:30.166250-07:00 Gathered 2 inputs for process CDAT.divide (dcd22654) 0.0</td></tr><tr><td></td><td></td><td style=\"text-align: left\">2020-04-27T16:50:30.096660-07:00 Preparing inputs for process CDAT.divide (dcd22654) 0.0</td></tr><tr><td></td><td></td><td style=\"text-align: left\">2020-04-27T16:50:30.052743-07:00 Renaming variables with mapping {'pr': 'errorbar_hist_precip_points'} 0.0</td></tr><tr><td></td><td></td><td style=\"text-align: left\">2020-04-27T16:50:29.989517-07:00 Building process CDAT.divide (1d050e39) 0.0</td></tr><tr><td></td><td></td><td style=\"text-align: left\">2020-04-27T16:50:29.947809-07:00 Gathered 1 inputs for process CDAT.divide (1d050e39) 0.0</td></tr><tr><td></td><td></td><td style=\"text-align: left\">2020-04-27T16:50:29.883578-07:00 Preparing inputs for process CDAT.divide (1d050e39) 0.0</td></tr><tr><td></td><td></td><td style=\"text-align: left\">2020-04-27T16:50:29.841516-07:00 Renaming variables with mapping {'pr': 'pr_probability'} 0.0</td></tr><tr><td></td><td></td><td style=\"text-align: left\">2020-04-27T16:50:29.778761-07:00 Building process CDAT.divide (fae04839) 0.0</td></tr><tr><td></td><td></td><td style=\"text-align: left\">2020-04-27T16:50:29.736654-07:00 Gathered 2 inputs for process CDAT.divide (fae04839) 0.0</td></tr><tr><td></td><td></td><td style=\"text-align: left\">2020-04-27T16:50:29.672511-07:00 Preparing inputs for process CDAT.divide (fae04839) 0.0</td></tr><tr><td></td><td></td><td style=\"text-align: left\">2020-04-27T16:50:29.631393-07:00 Renaming variables with mapping {'pr': 'pdf_cwv'} 0.0</td></tr><tr><td></td><td></td><td style=\"text-align: left\">2020-04-27T16:50:29.566133-07:00 Building process CDAT.divide (489265f2) 0.0</td></tr><tr><td></td><td></td><td style=\"text-align: left\">2020-04-27T16:50:29.526186-07:00 Gathered 1 inputs for process CDAT.divide (489265f2) 0.0</td></tr><tr><td></td><td></td><td style=\"text-align: left\">2020-04-27T16:50:29.466114-07:00 Preparing inputs for process CDAT.divide (489265f2) 0.0</td></tr><tr><td></td><td></td><td style=\"text-align: left\">2020-04-27T16:50:29.394588-07:00 Building process CDAT.sqrt (4d3175ff) 0.0</td></tr><tr><td></td><td></td><td style=\"text-align: left\">2020-04-27T16:50:29.352747-07:00 Gathered 1 inputs for process CDAT.sqrt (4d3175ff) 0.0</td></tr><tr><td></td><td></td><td style=\"text-align: left\">2020-04-27T16:50:29.292397-07:00 Preparing inputs for process CDAT.sqrt (4d3175ff) 0.0</td></tr><tr><td></td><td></td><td style=\"text-align: left\">2020-04-27T16:50:29.249167-07:00 Renaming variables with mapping {'pr': 'pdf_precipitating_points'} 0.0</td></tr><tr><td></td><td></td><td style=\"text-align: left\">2020-04-27T16:50:29.185473-07:00 Building process CDAT.divide (82038eca) 0.0</td></tr><tr><td></td><td></td><td style=\"text-align: left\">2020-04-27T16:50:29.143862-07:00 Gathered 1 inputs for process CDAT.divide (82038eca) 0.0</td></tr><tr><td></td><td></td><td style=\"text-align: left\">2020-04-27T16:50:29.084293-07:00 Preparing inputs for process CDAT.divide (82038eca) 0.0</td></tr><tr><td></td><td></td><td style=\"text-align: left\">2020-04-27T16:50:29.040231-07:00 Building process CDAT.sqrt (1534461a) 0.0</td></tr><tr><td></td><td></td><td style=\"text-align: left\">2020-04-27T16:50:28.977807-07:00 Gathered 1 inputs for process CDAT.sqrt (1534461a) 0.0</td></tr><tr><td></td><td></td><td style=\"text-align: left\">2020-04-27T16:50:28.934428-07:00 Preparing inputs for process CDAT.sqrt (1534461a) 0.0</td></tr><tr><td></td><td></td><td style=\"text-align: left\">2020-04-27T16:50:28.880885-07:00 Renaming variables with mapping {'pr': 'pr_binned_mean'} 0.0</td></tr><tr><td></td><td></td><td style=\"text-align: left\">2020-04-27T16:50:28.740121-07:00 Building process CDAT.mean (1f59d7f9) 0.0</td></tr><tr><td></td><td></td><td style=\"text-align: left\">2020-04-27T16:50:28.679032-07:00 Gathered 1 inputs for process CDAT.mean (1f59d7f9) 0.0</td></tr><tr><td></td><td></td><td style=\"text-align: left\">2020-04-27T16:50:28.638882-07:00 Preparing inputs for process CDAT.mean (1f59d7f9) 0.0</td></tr><tr><td></td><td></td><td style=\"text-align: left\">2020-04-27T16:50:28.588751-07:00 Filling nan with 0.0 0.0</td></tr><tr><td></td><td></td><td style=\"text-align: left\">2020-04-27T16:50:28.335742-07:00 Using condition \"pr - notnull - None\" 0.0</td></tr><tr><td></td><td></td><td style=\"text-align: left\">2020-04-27T16:50:28.272273-07:00 Building process CDAT.filter_map (11dbf05c) 0.0</td></tr><tr><td></td><td></td><td style=\"text-align: left\">2020-04-27T16:50:28.231383-07:00 Gathered 1 inputs for process CDAT.filter_map (11dbf05c) 0.0</td></tr><tr><td></td><td></td><td style=\"text-align: left\">2020-04-27T16:50:28.192064-07:00 Preparing inputs for process CDAT.filter_map (11dbf05c) 0.0</td></tr><tr><td></td><td></td><td style=\"text-align: left\">2020-04-27T16:50:28.037972-07:00 Building process CDAT.std (66a651e2) 0.0</td></tr><tr><td></td><td></td><td style=\"text-align: left\">2020-04-27T16:50:27.976307-07:00 Gathered 1 inputs for process CDAT.std (66a651e2) 0.0</td></tr><tr><td></td><td></td><td style=\"text-align: left\">2020-04-27T16:50:27.934111-07:00 Preparing inputs for process CDAT.std (66a651e2) 0.0</td></tr><tr><td></td><td></td><td style=\"text-align: left\">2020-04-27T16:50:27.868902-07:00 Filling nan with 0.0 0.0</td></tr><tr><td></td><td></td><td style=\"text-align: left\">2020-04-27T16:50:27.659872-07:00 Building process CDAT.count (4e679646) 0.0</td></tr><tr><td></td><td></td><td style=\"text-align: left\">2020-04-27T16:50:27.593775-07:00 Gathered 1 inputs for process CDAT.count (4e679646) 0.0</td></tr><tr><td></td><td></td><td style=\"text-align: left\">2020-04-27T16:50:27.553392-07:00 Preparing inputs for process CDAT.count (4e679646) 0.0</td></tr><tr><td></td><td></td><td style=\"text-align: left\">2020-04-27T16:50:27.507039-07:00 Filling nan with 0.0 0.0</td></tr><tr><td></td><td></td><td style=\"text-align: left\">2020-04-27T16:50:27.241351-07:00 Using condition \"pr - >= - 0.5\" 0.0</td></tr><tr><td></td><td></td><td style=\"text-align: left\">2020-04-27T16:50:27.176649-07:00 Building process CDAT.filter_map (ab30ba74) 0.0</td></tr><tr><td></td><td></td><td style=\"text-align: left\">2020-04-27T16:50:27.134802-07:00 Gathered 1 inputs for process CDAT.filter_map (ab30ba74) 0.0</td></tr><tr><td></td><td></td><td style=\"text-align: left\">2020-04-27T16:50:27.078550-07:00 Preparing inputs for process CDAT.filter_map (ab30ba74) 0.0</td></tr><tr><td></td><td></td><td style=\"text-align: left\">2020-04-27T16:50:18.254694-07:00 Grouping prw into bins [28.0, 29.5, 31.0, 32.5, 34.0, 35.5, 37.0, 38.5, 40.0, 41.5, 43.0, 44.5, 46.0, 47.5, 49.0, 50.5, 52.0, 53.5, 55.0, 56.5, 58.0, 59.5, 61.0, 62.5, 64.0, 65.5, 67.0, 68.5, 70.0] 0.0</td></tr><tr><td></td><td></td><td style=\"text-align: left\">2020-04-27T16:50:18.190046-07:00 Building process CDAT.groupby_bins (0dc9e2e4) 0.0</td></tr><tr><td></td><td></td><td style=\"text-align: left\">2020-04-27T16:50:18.145667-07:00 Gathered 1 inputs for process CDAT.groupby_bins (0dc9e2e4) 0.0</td></tr><tr><td></td><td></td><td style=\"text-align: left\">2020-04-27T16:50:18.084401-07:00 Preparing inputs for process CDAT.groupby_bins (0dc9e2e4) 0.0</td></tr><tr><td></td><td></td><td style=\"text-align: left\">2020-04-27T16:50:18.037349-07:00 Building process CDAT.multiply (9480e1f7) 0.0</td></tr><tr><td></td><td></td><td style=\"text-align: left\">2020-04-27T16:50:17.967252-07:00 Gathered 1 inputs for process CDAT.multiply (9480e1f7) 0.0</td></tr><tr><td></td><td></td><td style=\"text-align: left\">2020-04-27T16:50:17.922989-07:00 Preparing inputs for process CDAT.multiply (9480e1f7) 0.0</td></tr><tr><td></td><td></td><td style=\"text-align: left\">2020-04-27T16:50:17.640559-07:00 Merging 2 variable using compat 'no_conflicts' 0.0</td></tr><tr><td></td><td></td><td style=\"text-align: left\">2020-04-27T16:50:17.576640-07:00 Building process CDAT.merge (40835081) 0.0</td></tr><tr><td></td><td></td><td style=\"text-align: left\">2020-04-27T16:50:17.534969-07:00 Gathered 2 inputs for process CDAT.merge (40835081) 0.0</td></tr><tr><td></td><td></td><td style=\"text-align: left\">2020-04-27T16:50:17.454169-07:00 Preparing inputs for process CDAT.merge (40835081) 0.0</td></tr><tr><td></td><td></td><td style=\"text-align: left\">2020-04-27T16:50:17.393206-07:00 Subset dimension site (119,) -> () 0.0</td></tr><tr><td></td><td></td><td style=\"text-align: left\">2020-04-27T16:50:17.351595-07:00 Subset dimension time (87664,) -> (240,) 0.0</td></tr><tr><td></td><td></td><td style=\"text-align: left\">2020-04-27T16:50:17.288732-07:00 Building process CDAT.subset (135e141b) 0.0</td></tr><tr><td></td><td></td><td style=\"text-align: left\">2020-04-27T16:50:17.245108-07:00 Gathered 1 inputs for process CDAT.subset (135e141b) 0.0</td></tr><tr><td></td><td></td><td style=\"text-align: left\">2020-04-27T16:50:14.148940-07:00 Preparing inputs for process CDAT.subset (135e141b) 0.0</td></tr><tr><td></td><td></td><td style=\"text-align: left\">2020-04-27T16:50:14.094268-07:00 Subset dimension site (119,) -> () 0.0</td></tr><tr><td></td><td></td><td style=\"text-align: left\">2020-04-27T16:50:14.052182-07:00 Subset dimension time (87664,) -> (240,) 0.0</td></tr><tr><td></td><td></td><td style=\"text-align: left\">2020-04-27T16:50:13.985331-07:00 Building process CDAT.subset (e72cba78) 0.0</td></tr><tr><td></td><td></td><td style=\"text-align: left\">2020-04-27T16:50:13.942299-07:00 Gathered 1 inputs for process CDAT.subset (e72cba78) 0.0</td></tr><tr><td></td><td></td><td style=\"text-align: left\">2020-04-27T16:50:09.091535-07:00 Preparing inputs for process CDAT.subset (e72cba78) 0.0</td></tr><tr><td>ProcessSucceeded</td><td>2020-04-27T16:50:49.779204-07:00</td><td style=\"text-align: left\"><pre><a href=\"https://aims2.llnl.gov/threddsCWT/dodsC/public/2/1/CDAT.merge_13ea28db_efe78a0a.nc\" target=\"_blank\">https://aims2.llnl.gov/threddsCWT/dodsC/public/2/1/CDAT.merge_13ea28db_efe78a0a.nc</a></pre></td></tr></table>"
      ],
      "text/plain": [
       "<cwt.llnl_client.JobWrapper at 0x7fbe5e457130>"
      ]
     },
     "execution_count": 16,
     "metadata": {},
     "output_type": "execute_result"
    }
   ],
   "source": [
    "jobs[1]"
   ]
  },
  {
   "cell_type": "code",
   "execution_count": null,
   "metadata": {},
   "outputs": [],
   "source": []
  }
 ],
 "metadata": {
  "kernelspec": {
   "display_name": "Python 3",
   "language": "python",
   "name": "python3"
  },
  "language_info": {
   "codemirror_mode": {
    "name": "ipython",
    "version": 3
   },
   "file_extension": ".py",
   "mimetype": "text/x-python",
   "name": "python",
   "nbconvert_exporter": "python",
   "pygments_lexer": "ipython3",
   "version": "3.8.2"
  }
 },
 "nbformat": 4,
 "nbformat_minor": 4
}
