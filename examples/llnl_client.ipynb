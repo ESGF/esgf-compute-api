{
 "cells": [
  {
   "cell_type": "markdown",
   "metadata": {},
   "source": [
    "# Using LLNL WPS Client\n",
    "\n",
    "This tutorial will show you how to use the LLNL WPS Client which extends the normal WPS Client with addition features.\n",
    "\n",
    "**Features**\n",
    "- LLNLAuthenticator handles authentication and token retrieval.\n",
    "  - Can store token in between sessions.\n",
    "- LLNLClient provides access to job management.\n",
    "\n",
    "You need to get your API key from [here](https://aims2.llnl.gov/user/profile) and possibly authenticated via my_proxy_client or OAuth2 if the files you're trying to use require it.\n",
    "\n",
    "Below we'll initialize the LLNLClient. You'll be presented a url, copy this into a browser window. Copy the token that is returned from the service and paste in the input."
   ]
  },
  {
   "cell_type": "code",
   "execution_count": null,
   "metadata": {},
   "outputs": [],
   "source": [
    "import os\n",
    "import cwt\n",
    "from cwt import llnl_client\n",
    "\n",
    "wps_url = os.environ.get('WPS_URL', 'https://aims2.llnl.gov/wps')\n",
    "verify = bool(os.environ.get('WPS_VERIFY', True))\n",
    "server_url = os.environ.get('SERVER_URL', 'https://aims2.llnl.gov/')\n",
    "\n",
    "auth = llnl_client.LLNLAuthenticator(server_url)\n",
    "\n",
    "client = llnl_client.LLNLClient(wps_url, auth=auth, verify=verify)\n",
    "client"
   ]
  },
  {
   "cell_type": "code",
   "execution_count": 2,
   "metadata": {},
   "outputs": [],
   "source": [
    "# (122, 240, 480)\n",
    "inputs = cwt.Variable('http://aims3.llnl.gov/thredds/dodsC/css03_data/CMIP6/CMIP/NASA-GISS/GISS-E2-1-G/historical/r10i1p1f1/Amon/tas/gn/v20180830/tas_Amon_GISS-E2-1-G_historical_r10i1p1f1_gn_190101-195012.nc', 'tas')"
   ]
  },
  {
   "cell_type": "code",
   "execution_count": 3,
   "metadata": {},
   "outputs": [
    {
     "data": {
      "text/plain": [
       "Process(name=dc53bda1-b531-455a-8635-2d67e75c1b90, identifier=CDAT.subset, inputs=[Variable(name='44f62b5c-7d75-4777-9dc9-99a2d36736d3', uri='http://aims3.llnl.gov/thredds/dodsC/css03_data/CMIP6/CMIP/NASA-GISS/GISS-E2-1-G/historical/r10i1p1f1/Amon/tas/gn/v20180830/tas_Amon_GISS-E2-1-G_historical_r10i1p1f1_gn_190101-195012.nc', var_name='tas', domain=None, mime_type=None)], parameters={}, domain=Domain(dimensions={'time': Dimension(name='time', start='1910', end='1925', step=1, crs=CRS(name='timestamps')), 'lat': Dimension(name='lat', start=0, end=90, step=1, crs=CRS(name='values'))}, mask=None, name='35a4ed03-d254-4139-a59c-0b7b7a71a4ec'), title=CDAT.subset, process_outputs=[], data_inputs=[], status_supported=None, store_supported=None, process_version=devel)"
      ]
     },
     "execution_count": 3,
     "metadata": {},
     "output_type": "execute_result"
    }
   ],
   "source": [
    "# First we subset the input\n",
    "subset = client.CDAT.subset(inputs, domain=cwt.Domain(time=('1910', '1925'), lat=(0, 90)))\n",
    "subset"
   ]
  },
  {
   "cell_type": "code",
   "execution_count": 4,
   "metadata": {},
   "outputs": [
    {
     "name": "stdout",
     "output_type": "stream",
     "text": [
      "ProcessAccepted None\n",
      "ProcessAccepted Validating inputs of CDAT.subset (ae41acd9-1292-4102-bb3f-63b1999814ca)\n",
      "ProcessStarted Tracking 1 futures 0\n",
      "ProcessStarted Processing 0\n",
      "ProcessSucceeded None\n"
     ]
    },
    {
     "data": {
      "text/plain": [
       "True"
      ]
     },
     "execution_count": 4,
     "metadata": {},
     "output_type": "execute_result"
    }
   ],
   "source": [
    "# and use proc_max.\n",
    "client.execute(subset)\n",
    "\n",
    "subset.wait()"
   ]
  },
  {
   "cell_type": "markdown",
   "metadata": {},
   "source": [
    "## You can list all previous jobs with details"
   ]
  },
  {
   "cell_type": "code",
   "execution_count": 5,
   "metadata": {},
   "outputs": [
    {
     "data": {
      "text/html": [
       "<table><tr><th>ID</th><th>Operation</th><th>Elapsed</th><th>Status</th><th>Accepted</th></tr><tr><td>1</td><td>CDAT.workflow</td><td>31.211663</td><td>ProcessSucceeded</td><td>2020-02-29T13:18:58.737378+00:00</td></tr><tr><td>2</td><td>CDAT.workflow</td><td>No elapsed</td><td>ProcessFailed</td><td>2020-04-16T21:52:05.277745+00:00</td></tr><tr><td>3</td><td>CDAT.workflow</td><td>No elapsed</td><td>ProcessFailed</td><td>2020-04-16T21:54:22.747107+00:00</td></tr><tr><td>4</td><td>CDAT.workflow</td><td>3.675575</td><td>ProcessSucceeded</td><td>2020-04-16T22:00:05.548100+00:00</td></tr><tr><td>5</td><td>CDAT.subset</td><td>2.399360</td><td>ProcessSucceeded</td><td>2020-04-16T22:09:00.387937+00:00</td></tr><tr><td>6</td><td>CDAT.subset</td><td>1.978010</td><td>ProcessSucceeded</td><td>2020-04-16T22:09:29.851628+00:00</td></tr><tr><td>7</td><td>CDAT.subset</td><td>1.938750</td><td>ProcessSucceeded</td><td>2020-04-16T22:16:04.044541+00:00</td></tr><tr><td>8</td><td>CDAT.subset</td><td>1.927600</td><td>ProcessSucceeded</td><td>2020-04-16T22:19:53.577219+00:00</td></tr><tr><td>9</td><td>CDAT.aggregate</td><td>1.61316</td><td>ProcessFailed</td><td>2020-04-16T22:22:19.190117+00:00</td></tr><tr><td>10</td><td>CDAT.aggregate</td><td>0.942818</td><td>ProcessFailed</td><td>2020-04-16T22:24:04.951652+00:00</td></tr><tr><td>11</td><td>CDAT.subset</td><td>3.573442</td><td>ProcessSucceeded</td><td>2020-04-16T22:24:37.389081+00:00</td></tr></table>"
      ],
      "text/plain": [
       "<cwt.llnl_client.JobListWrapper at 0x7fb6ac320ac0>"
      ]
     },
     "execution_count": 5,
     "metadata": {},
     "output_type": "execute_result"
    }
   ],
   "source": [
    "client.jobs()"
   ]
  },
  {
   "cell_type": "markdown",
   "metadata": {},
   "source": [
    "## View details of a specific job\n",
    "\n",
    "Using the ID column from the previous example you can view specific details of each job."
   ]
  },
  {
   "cell_type": "code",
   "execution_count": 6,
   "metadata": {},
   "outputs": [
    {
     "data": {
      "text/html": [
       "<table><tr><th>Status</th><th>Created</th><th>Output</th></tr><tr><td>ProcessSucceeded</td><td>2020-02-29T05:19:32.051215-08:00</td><td style=\"text-align: left\"><a href=\"https://aims2.llnl.gov/threddsCWT/dodsC/public/2/1/507c082b-ba29-47ce-be7a-78e92e032083.nc.html\" target=\"_blank\">https://aims2.llnl.gov/threddsCWT/dodsC/public/2/1/507c082b-ba29-47ce-be7a-78e92e032083.nc</a></td></tr><tr><td>ProcessStarted</td><td>2020-02-29T05:19:00.839552-08:00</td><td style=\"text-align: left\">2020-02-29T05:19:01.014669-08:00 Preparing inputs for process CDAT.subset (f8c203eb-d590-4b30-aa62-411655c66c39) 0.0</td></tr><tr><td></td><td></td><td style=\"text-align: left\">2020-02-29T05:19:04.279765-08:00 Gathered 1 inputs for process CDAT.subset (f8c203eb-d590-4b30-aa62-411655c66c39) 0.0</td></tr><tr><td></td><td></td><td style=\"text-align: left\">2020-02-29T05:19:04.324139-08:00 Building process CDAT.subset (f8c203eb-d590-4b30-aa62-411655c66c39) 0.0</td></tr><tr><td></td><td></td><td style=\"text-align: left\">2020-02-29T05:19:04.394326-08:00 Subset dimension time (87664,) -> (240,) 0.0</td></tr><tr><td></td><td></td><td style=\"text-align: left\">2020-02-29T05:19:04.439841-08:00 Subset dimension site (119,) -> () 0.0</td></tr><tr><td></td><td></td><td style=\"text-align: left\">2020-02-29T05:19:04.482143-08:00 Preparing inputs for process CDAT.subset (91bc4dda-c99e-4190-80b3-41d8c6da18ae) 0.0</td></tr><tr><td></td><td></td><td style=\"text-align: left\">2020-02-29T05:19:07.644715-08:00 Gathered 1 inputs for process CDAT.subset (91bc4dda-c99e-4190-80b3-41d8c6da18ae) 0.0</td></tr><tr><td></td><td></td><td style=\"text-align: left\">2020-02-29T05:19:07.689555-08:00 Building process CDAT.subset (91bc4dda-c99e-4190-80b3-41d8c6da18ae) 0.0</td></tr><tr><td></td><td></td><td style=\"text-align: left\">2020-02-29T05:19:07.745589-08:00 Subset dimension time (87664,) -> (240,) 0.0</td></tr><tr><td></td><td></td><td style=\"text-align: left\">2020-02-29T05:19:07.789756-08:00 Subset dimension site (119,) -> () 0.0</td></tr><tr><td></td><td></td><td style=\"text-align: left\">2020-02-29T05:19:07.830758-08:00 Preparing inputs for process CDAT.merge (888d7e55-0082-4bc8-8b76-f8deeb356614) 0.0</td></tr><tr><td></td><td></td><td style=\"text-align: left\">2020-02-29T05:19:07.876529-08:00 Gathered 2 inputs for process CDAT.merge (888d7e55-0082-4bc8-8b76-f8deeb356614) 0.0</td></tr><tr><td></td><td></td><td style=\"text-align: left\">2020-02-29T05:19:07.921908-08:00 Building process CDAT.merge (888d7e55-0082-4bc8-8b76-f8deeb356614) 0.0</td></tr><tr><td></td><td></td><td style=\"text-align: left\">2020-02-29T05:19:07.961078-08:00 Merging 2 variable using compat 'no_conflicts' 0.0</td></tr><tr><td></td><td></td><td style=\"text-align: left\">2020-02-29T05:19:08.138735-08:00 Preparing inputs for process CDAT.multiply (1568ef0a-41f5-4e2d-91df-f9d24a78428e) 0.0</td></tr><tr><td></td><td></td><td style=\"text-align: left\">2020-02-29T05:19:08.182747-08:00 Gathered 1 inputs for process CDAT.multiply (1568ef0a-41f5-4e2d-91df-f9d24a78428e) 0.0</td></tr><tr><td></td><td></td><td style=\"text-align: left\">2020-02-29T05:19:08.227974-08:00 Building process CDAT.multiply (1568ef0a-41f5-4e2d-91df-f9d24a78428e) 0.0</td></tr><tr><td></td><td></td><td style=\"text-align: left\">2020-02-29T05:19:08.269319-08:00 Preparing inputs for process CDAT.groupby_bins (940a4e52-002a-46c6-81bd-46ba54940ca9) 0.0</td></tr><tr><td></td><td></td><td style=\"text-align: left\">2020-02-29T05:19:08.311609-08:00 Gathered 1 inputs for process CDAT.groupby_bins (940a4e52-002a-46c6-81bd-46ba54940ca9) 0.0</td></tr><tr><td></td><td></td><td style=\"text-align: left\">2020-02-29T05:19:08.354269-08:00 Building process CDAT.groupby_bins (940a4e52-002a-46c6-81bd-46ba54940ca9) 0.0</td></tr><tr><td></td><td></td><td style=\"text-align: left\">2020-02-29T05:19:08.397054-08:00 Grouping prw into bins [28.0, 29.5, 31.0, 32.5, 34.0, 35.5, 37.0, 38.5, 40.0, 41.5, 43.0, 44.5, 46.0, 47.5, 49.0, 50.5, 52.0, 53.5, 55.0, 56.5, 58.0, 59.5, 61.0, 62.5, 64.0, 65.5, 67.0, 68.5, 70.0] 0.0</td></tr><tr><td></td><td></td><td style=\"text-align: left\">2020-02-29T05:19:17.933804-08:00 Preparing inputs for process CDAT.filter_map (0eaed37f-304a-4cce-8ac4-dab3838952f1) 0.0</td></tr><tr><td></td><td></td><td style=\"text-align: left\">2020-02-29T05:19:17.976162-08:00 Gathered 1 inputs for process CDAT.filter_map (0eaed37f-304a-4cce-8ac4-dab3838952f1) 0.0</td></tr><tr><td></td><td></td><td style=\"text-align: left\">2020-02-29T05:19:18.017762-08:00 Building process CDAT.filter_map (0eaed37f-304a-4cce-8ac4-dab3838952f1) 0.0</td></tr><tr><td></td><td></td><td style=\"text-align: left\">2020-02-29T05:19:18.059785-08:00 Using condition \"pr - >= - 0.5\" 0.0</td></tr><tr><td></td><td></td><td style=\"text-align: left\">2020-02-29T05:19:18.321536-08:00 Filling nan with 0.0 0.0</td></tr><tr><td></td><td></td><td style=\"text-align: left\">2020-02-29T05:19:18.366975-08:00 Preparing inputs for process CDAT.count (69afaa7a-7bfd-443a-b713-7504445c0cc3) 0.0</td></tr><tr><td></td><td></td><td style=\"text-align: left\">2020-02-29T05:19:18.409406-08:00 Gathered 1 inputs for process CDAT.count (69afaa7a-7bfd-443a-b713-7504445c0cc3) 0.0</td></tr><tr><td></td><td></td><td style=\"text-align: left\">2020-02-29T05:19:18.451507-08:00 Building process CDAT.count (69afaa7a-7bfd-443a-b713-7504445c0cc3) 0.0</td></tr><tr><td></td><td></td><td style=\"text-align: left\">2020-02-29T05:19:18.635627-08:00 Filling nan with 0.0 0.0</td></tr><tr><td></td><td></td><td style=\"text-align: left\">2020-02-29T05:19:18.682130-08:00 Preparing inputs for process CDAT.std (a25adbd7-d61f-494e-bd8e-73b247662b25) 0.0</td></tr><tr><td></td><td></td><td style=\"text-align: left\">2020-02-29T05:19:18.730304-08:00 Gathered 1 inputs for process CDAT.std (a25adbd7-d61f-494e-bd8e-73b247662b25) 0.0</td></tr><tr><td></td><td></td><td style=\"text-align: left\">2020-02-29T05:19:18.772460-08:00 Building process CDAT.std (a25adbd7-d61f-494e-bd8e-73b247662b25) 0.0</td></tr><tr><td></td><td></td><td style=\"text-align: left\">2020-02-29T05:19:18.900096-08:00 Preparing inputs for process CDAT.filter_map (8ace891d-35f7-425b-8063-df2958118efc) 0.0</td></tr><tr><td></td><td></td><td style=\"text-align: left\">2020-02-29T05:19:18.942362-08:00 Gathered 1 inputs for process CDAT.filter_map (8ace891d-35f7-425b-8063-df2958118efc) 0.0</td></tr><tr><td></td><td></td><td style=\"text-align: left\">2020-02-29T05:19:18.985084-08:00 Building process CDAT.filter_map (8ace891d-35f7-425b-8063-df2958118efc) 0.0</td></tr><tr><td></td><td></td><td style=\"text-align: left\">2020-02-29T05:19:19.027204-08:00 Using condition \"pr - notnull - None\" 0.0</td></tr><tr><td></td><td></td><td style=\"text-align: left\">2020-02-29T05:19:19.487063-08:00 Filling nan with 0.0 0.0</td></tr><tr><td></td><td></td><td style=\"text-align: left\">2020-02-29T05:19:19.532717-08:00 Preparing inputs for process CDAT.mean (b63d1c99-d262-47b8-ab37-16bf40b99f10) 0.0</td></tr><tr><td></td><td></td><td style=\"text-align: left\">2020-02-29T05:19:19.575123-08:00 Gathered 1 inputs for process CDAT.mean (b63d1c99-d262-47b8-ab37-16bf40b99f10) 0.0</td></tr><tr><td></td><td></td><td style=\"text-align: left\">2020-02-29T05:19:19.618502-08:00 Building process CDAT.mean (b63d1c99-d262-47b8-ab37-16bf40b99f10) 0.0</td></tr><tr><td></td><td></td><td style=\"text-align: left\">2020-02-29T05:19:19.790657-08:00 Renaming variables with mapping {'pr': 'pr_binned_mean'} 0.0</td></tr><tr><td></td><td></td><td style=\"text-align: left\">2020-02-29T05:19:19.832979-08:00 Preparing inputs for process CDAT.sqrt (a6aec5ec-d0f5-41d9-aa5e-234ac879c13c) 0.0</td></tr><tr><td></td><td></td><td style=\"text-align: left\">2020-02-29T05:19:19.875920-08:00 Gathered 1 inputs for process CDAT.sqrt (a6aec5ec-d0f5-41d9-aa5e-234ac879c13c) 0.0</td></tr><tr><td></td><td></td><td style=\"text-align: left\">2020-02-29T05:19:19.921252-08:00 Building process CDAT.sqrt (a6aec5ec-d0f5-41d9-aa5e-234ac879c13c) 0.0</td></tr><tr><td></td><td></td><td style=\"text-align: left\">2020-02-29T05:19:19.963198-08:00 Preparing inputs for process CDAT.divide (e3faebe1-9a7c-41a0-9a62-e6dcc3dc1056) 0.0</td></tr><tr><td></td><td></td><td style=\"text-align: left\">2020-02-29T05:19:20.003703-08:00 Gathered 1 inputs for process CDAT.divide (e3faebe1-9a7c-41a0-9a62-e6dcc3dc1056) 0.0</td></tr><tr><td></td><td></td><td style=\"text-align: left\">2020-02-29T05:19:20.044320-08:00 Building process CDAT.divide (e3faebe1-9a7c-41a0-9a62-e6dcc3dc1056) 0.0</td></tr><tr><td></td><td></td><td style=\"text-align: left\">2020-02-29T05:19:20.087812-08:00 Renaming variables with mapping {'pr': 'pdf_precipitating_points'} 0.0</td></tr><tr><td></td><td></td><td style=\"text-align: left\">2020-02-29T05:19:20.128131-08:00 Preparing inputs for process CDAT.sqrt (1a5e7a97-8c5d-4604-b85b-2c303f1b4e58) 0.0</td></tr><tr><td></td><td></td><td style=\"text-align: left\">2020-02-29T05:19:20.169200-08:00 Gathered 1 inputs for process CDAT.sqrt (1a5e7a97-8c5d-4604-b85b-2c303f1b4e58) 0.0</td></tr><tr><td></td><td></td><td style=\"text-align: left\">2020-02-29T05:19:20.208887-08:00 Building process CDAT.sqrt (1a5e7a97-8c5d-4604-b85b-2c303f1b4e58) 0.0</td></tr><tr><td></td><td></td><td style=\"text-align: left\">2020-02-29T05:19:20.252300-08:00 Preparing inputs for process CDAT.divide (67501e64-5561-4a5f-86cc-eefb7e577762) 0.0</td></tr><tr><td></td><td></td><td style=\"text-align: left\">2020-02-29T05:19:20.293502-08:00 Gathered 1 inputs for process CDAT.divide (67501e64-5561-4a5f-86cc-eefb7e577762) 0.0</td></tr><tr><td></td><td></td><td style=\"text-align: left\">2020-02-29T05:19:20.334581-08:00 Building process CDAT.divide (67501e64-5561-4a5f-86cc-eefb7e577762) 0.0</td></tr><tr><td></td><td></td><td style=\"text-align: left\">2020-02-29T05:19:20.381571-08:00 Renaming variables with mapping {'pr': 'pdf_cwv'} 0.0</td></tr><tr><td></td><td></td><td style=\"text-align: left\">2020-02-29T05:19:20.423355-08:00 Preparing inputs for process CDAT.divide (625849a9-2272-4dd7-8779-0e478577b7ac) 0.0</td></tr><tr><td></td><td></td><td style=\"text-align: left\">2020-02-29T05:19:20.463986-08:00 Gathered 2 inputs for process CDAT.divide (625849a9-2272-4dd7-8779-0e478577b7ac) 0.0</td></tr><tr><td></td><td></td><td style=\"text-align: left\">2020-02-29T05:19:20.508130-08:00 Building process CDAT.divide (625849a9-2272-4dd7-8779-0e478577b7ac) 0.0</td></tr><tr><td></td><td></td><td style=\"text-align: left\">2020-02-29T05:19:20.553912-08:00 Renaming variables with mapping {'pr': 'pr_probability'} 0.0</td></tr><tr><td></td><td></td><td style=\"text-align: left\">2020-02-29T05:19:20.595642-08:00 Preparing inputs for process CDAT.divide (9db7979f-972c-4d0b-9391-5921d40e749d) 0.0</td></tr><tr><td></td><td></td><td style=\"text-align: left\">2020-02-29T05:19:20.636219-08:00 Gathered 1 inputs for process CDAT.divide (9db7979f-972c-4d0b-9391-5921d40e749d) 0.0</td></tr><tr><td></td><td></td><td style=\"text-align: left\">2020-02-29T05:19:20.676269-08:00 Building process CDAT.divide (9db7979f-972c-4d0b-9391-5921d40e749d) 0.0</td></tr><tr><td></td><td></td><td style=\"text-align: left\">2020-02-29T05:19:20.722941-08:00 Renaming variables with mapping {'pr': 'errorbar_hist_precip_points'} 0.0</td></tr><tr><td></td><td></td><td style=\"text-align: left\">2020-02-29T05:19:20.764100-08:00 Preparing inputs for process CDAT.divide (5bc08fbf-529a-4b70-8eaa-acf93c4b6f23) 0.0</td></tr><tr><td></td><td></td><td style=\"text-align: left\">2020-02-29T05:19:20.803251-08:00 Gathered 2 inputs for process CDAT.divide (5bc08fbf-529a-4b70-8eaa-acf93c4b6f23) 0.0</td></tr><tr><td></td><td></td><td style=\"text-align: left\">2020-02-29T05:19:20.844994-08:00 Building process CDAT.divide (5bc08fbf-529a-4b70-8eaa-acf93c4b6f23) 0.0</td></tr><tr><td></td><td></td><td style=\"text-align: left\">2020-02-29T05:19:20.888862-08:00 Renaming variables with mapping {'pr': 'std_error_precip'} 0.0</td></tr><tr><td></td><td></td><td style=\"text-align: left\">2020-02-29T05:19:20.929197-08:00 Preparing inputs for process CDAT.merge (34e6be8b-125e-4a5d-9ea0-b102e2db33a2) 0.0</td></tr><tr><td></td><td></td><td style=\"text-align: left\">2020-02-29T05:19:20.967986-08:00 Gathered 6 inputs for process CDAT.merge (34e6be8b-125e-4a5d-9ea0-b102e2db33a2) 0.0</td></tr><tr><td></td><td></td><td style=\"text-align: left\">2020-02-29T05:19:21.007958-08:00 Building process CDAT.merge (34e6be8b-125e-4a5d-9ea0-b102e2db33a2) 0.0</td></tr><tr><td></td><td></td><td style=\"text-align: left\">2020-02-29T05:19:21.048134-08:00 Merging 6 variable using compat 'override' 0.0</td></tr><tr><td></td><td></td><td style=\"text-align: left\">2020-02-29T05:19:21.092103-08:00 Preparing to execute workflow 0.0</td></tr><tr><td></td><td></td><td style=\"text-align: left\">2020-02-29T05:19:21.244988-08:00 Building output for '34e6be8b-125e-4a5d-9ea0-b102e2db33a2' - 'CDAT.merge' 0.0</td></tr><tr><td></td><td></td><td style=\"text-align: left\">2020-02-29T05:19:21.422602-08:00 Gathered 1 outputs 0.0</td></tr><tr><td></td><td></td><td style=\"text-align: left\">2020-02-29T05:19:22.490347-08:00 Tracking 1 futures 0.0</td></tr><tr><td></td><td></td><td style=\"text-align: left\">2020-02-29T05:19:22.815442-08:00 Processing 0.0</td></tr><tr><td></td><td></td><td style=\"text-align: left\">2020-02-29T05:19:22.913873-08:00 Processing 4.0</td></tr><tr><td></td><td></td><td style=\"text-align: left\">2020-02-29T05:19:23.720390-08:00 Processing 6.0</td></tr><tr><td></td><td></td><td style=\"text-align: left\">2020-02-29T05:19:23.823014-08:00 Processing 8.0</td></tr><tr><td></td><td></td><td style=\"text-align: left\">2020-02-29T05:19:26.342203-08:00 Processing 18.0</td></tr><tr><td></td><td></td><td style=\"text-align: left\">2020-02-29T05:19:26.443091-08:00 Processing 22.0</td></tr><tr><td></td><td></td><td style=\"text-align: left\">2020-02-29T05:19:26.645145-08:00 Processing 25.0</td></tr><tr><td></td><td></td><td style=\"text-align: left\">2020-02-29T05:19:28.460222-08:00 Processing 28.0</td></tr><tr><td></td><td></td><td style=\"text-align: left\">2020-02-29T05:19:28.563700-08:00 Processing 47.0</td></tr><tr><td></td><td></td><td style=\"text-align: left\">2020-02-29T05:19:28.660267-08:00 Processing 54.0</td></tr><tr><td></td><td></td><td style=\"text-align: left\">2020-02-29T05:19:28.762265-08:00 Processing 56.0</td></tr><tr><td></td><td></td><td style=\"text-align: left\">2020-02-29T05:19:28.862234-08:00 Processing 59.0</td></tr><tr><td></td><td></td><td style=\"text-align: left\">2020-02-29T05:19:28.959106-08:00 Processing 61.0</td></tr><tr><td></td><td></td><td style=\"text-align: left\">2020-02-29T05:19:29.266277-08:00 Processing 62.0</td></tr><tr><td></td><td></td><td style=\"text-align: left\">2020-02-29T05:19:29.365149-08:00 Processing 63.0</td></tr><tr><td></td><td></td><td style=\"text-align: left\">2020-02-29T05:19:29.466778-08:00 Processing 67.0</td></tr><tr><td></td><td></td><td style=\"text-align: left\">2020-02-29T05:19:30.781078-08:00 Processing 70.0</td></tr><tr><td></td><td></td><td style=\"text-align: left\">2020-02-29T05:19:30.876997-08:00 Processing 88.0</td></tr><tr><td></td><td></td><td style=\"text-align: left\">2020-02-29T05:19:30.977548-08:00 Processing 92.0</td></tr><tr><td></td><td></td><td style=\"text-align: left\">2020-02-29T05:19:31.081695-08:00 Processing 93.0</td></tr><tr><td></td><td></td><td style=\"text-align: left\">2020-02-29T05:19:31.181752-08:00 Processing 94.0</td></tr><tr><td></td><td></td><td style=\"text-align: left\">2020-02-29T05:19:31.279395-08:00 Processing 95.0</td></tr><tr><td></td><td></td><td style=\"text-align: left\">2020-02-29T05:19:31.689270-08:00 Processing 96.0</td></tr><tr><td></td><td></td><td style=\"text-align: left\">2020-02-29T05:19:31.787183-08:00 Processing 99.0</td></tr><tr><td></td><td></td><td style=\"text-align: left\">2020-02-29T05:19:31.889855-08:00 Processing 100.0</td></tr><tr><td>ProcessAccepted</td><td>2020-02-29T05:18:58.737378-08:00</td><td style=\"text-align: left\">2020-02-29T05:18:58.967748-08:00 Validating workflow 0.0</td></tr><tr><td></td><td></td><td style=\"text-align: left\">2020-02-29T05:18:59.031042-08:00 Validating inputs of CDAT.subset (f8c203eb-d590-4b30-aa62-411655c66c39) 0.0</td></tr><tr><td></td><td></td><td style=\"text-align: left\">2020-02-29T05:18:59.119087-08:00 Validating parameters of CDAT.subset (f8c203eb-d590-4b30-aa62-411655c66c39) 0.0</td></tr><tr><td></td><td></td><td style=\"text-align: left\">2020-02-29T05:18:59.189663-08:00 Validating inputs of CDAT.subset (91bc4dda-c99e-4190-80b3-41d8c6da18ae) 0.0</td></tr><tr><td></td><td></td><td style=\"text-align: left\">2020-02-29T05:18:59.265194-08:00 Validating parameters of CDAT.subset (91bc4dda-c99e-4190-80b3-41d8c6da18ae) 0.0</td></tr><tr><td></td><td></td><td style=\"text-align: left\">2020-02-29T05:18:59.308778-08:00 Validating inputs of CDAT.merge (888d7e55-0082-4bc8-8b76-f8deeb356614) 0.0</td></tr><tr><td></td><td></td><td style=\"text-align: left\">2020-02-29T05:18:59.352121-08:00 Validating parameters of CDAT.merge (888d7e55-0082-4bc8-8b76-f8deeb356614) 0.0</td></tr><tr><td></td><td></td><td style=\"text-align: left\">2020-02-29T05:18:59.393789-08:00 Validating inputs of CDAT.multiply (1568ef0a-41f5-4e2d-91df-f9d24a78428e) 0.0</td></tr><tr><td></td><td></td><td style=\"text-align: left\">2020-02-29T05:18:59.435332-08:00 Validating parameters of CDAT.multiply (1568ef0a-41f5-4e2d-91df-f9d24a78428e) 0.0</td></tr><tr><td></td><td></td><td style=\"text-align: left\">2020-02-29T05:18:59.477120-08:00 Validating inputs of CDAT.groupby_bins (940a4e52-002a-46c6-81bd-46ba54940ca9) 0.0</td></tr><tr><td></td><td></td><td style=\"text-align: left\">2020-02-29T05:18:59.520467-08:00 Validating parameters of CDAT.groupby_bins (940a4e52-002a-46c6-81bd-46ba54940ca9) 0.0</td></tr><tr><td></td><td></td><td style=\"text-align: left\">2020-02-29T05:18:59.566678-08:00 Validating inputs of CDAT.filter_map (0eaed37f-304a-4cce-8ac4-dab3838952f1) 0.0</td></tr><tr><td></td><td></td><td style=\"text-align: left\">2020-02-29T05:18:59.609880-08:00 Validating parameters of CDAT.filter_map (0eaed37f-304a-4cce-8ac4-dab3838952f1) 0.0</td></tr><tr><td></td><td></td><td style=\"text-align: left\">2020-02-29T05:18:59.656028-08:00 Validating inputs of CDAT.count (69afaa7a-7bfd-443a-b713-7504445c0cc3) 0.0</td></tr><tr><td></td><td></td><td style=\"text-align: left\">2020-02-29T05:18:59.699960-08:00 Validating parameters of CDAT.count (69afaa7a-7bfd-443a-b713-7504445c0cc3) 0.0</td></tr><tr><td></td><td></td><td style=\"text-align: left\">2020-02-29T05:18:59.744917-08:00 Validating inputs of CDAT.std (a25adbd7-d61f-494e-bd8e-73b247662b25) 0.0</td></tr><tr><td></td><td></td><td style=\"text-align: left\">2020-02-29T05:18:59.789118-08:00 Validating parameters of CDAT.std (a25adbd7-d61f-494e-bd8e-73b247662b25) 0.0</td></tr><tr><td></td><td></td><td style=\"text-align: left\">2020-02-29T05:18:59.833614-08:00 Validating inputs of CDAT.filter_map (8ace891d-35f7-425b-8063-df2958118efc) 0.0</td></tr><tr><td></td><td></td><td style=\"text-align: left\">2020-02-29T05:18:59.876354-08:00 Validating parameters of CDAT.filter_map (8ace891d-35f7-425b-8063-df2958118efc) 0.0</td></tr><tr><td></td><td></td><td style=\"text-align: left\">2020-02-29T05:18:59.921993-08:00 Validating inputs of CDAT.mean (b63d1c99-d262-47b8-ab37-16bf40b99f10) 0.0</td></tr><tr><td></td><td></td><td style=\"text-align: left\">2020-02-29T05:18:59.963297-08:00 Validating parameters of CDAT.mean (b63d1c99-d262-47b8-ab37-16bf40b99f10) 0.0</td></tr><tr><td></td><td></td><td style=\"text-align: left\">2020-02-29T05:19:00.006621-08:00 Validating inputs of CDAT.sqrt (a6aec5ec-d0f5-41d9-aa5e-234ac879c13c) 0.0</td></tr><tr><td></td><td></td><td style=\"text-align: left\">2020-02-29T05:19:00.048465-08:00 Validating parameters of CDAT.sqrt (a6aec5ec-d0f5-41d9-aa5e-234ac879c13c) 0.0</td></tr><tr><td></td><td></td><td style=\"text-align: left\">2020-02-29T05:19:00.093326-08:00 Validating inputs of CDAT.divide (e3faebe1-9a7c-41a0-9a62-e6dcc3dc1056) 0.0</td></tr><tr><td></td><td></td><td style=\"text-align: left\">2020-02-29T05:19:00.133595-08:00 Validating parameters of CDAT.divide (e3faebe1-9a7c-41a0-9a62-e6dcc3dc1056) 0.0</td></tr><tr><td></td><td></td><td style=\"text-align: left\">2020-02-29T05:19:00.172744-08:00 Validating inputs of CDAT.sqrt (1a5e7a97-8c5d-4604-b85b-2c303f1b4e58) 0.0</td></tr><tr><td></td><td></td><td style=\"text-align: left\">2020-02-29T05:19:00.213155-08:00 Validating parameters of CDAT.sqrt (1a5e7a97-8c5d-4604-b85b-2c303f1b4e58) 0.0</td></tr><tr><td></td><td></td><td style=\"text-align: left\">2020-02-29T05:19:00.253276-08:00 Validating inputs of CDAT.divide (67501e64-5561-4a5f-86cc-eefb7e577762) 0.0</td></tr><tr><td></td><td></td><td style=\"text-align: left\">2020-02-29T05:19:00.296789-08:00 Validating parameters of CDAT.divide (67501e64-5561-4a5f-86cc-eefb7e577762) 0.0</td></tr><tr><td></td><td></td><td style=\"text-align: left\">2020-02-29T05:19:00.337776-08:00 Validating inputs of CDAT.divide (625849a9-2272-4dd7-8779-0e478577b7ac) 0.0</td></tr><tr><td></td><td></td><td style=\"text-align: left\">2020-02-29T05:19:00.381504-08:00 Validating parameters of CDAT.divide (625849a9-2272-4dd7-8779-0e478577b7ac) 0.0</td></tr><tr><td></td><td></td><td style=\"text-align: left\">2020-02-29T05:19:00.424596-08:00 Validating inputs of CDAT.divide (9db7979f-972c-4d0b-9391-5921d40e749d) 0.0</td></tr><tr><td></td><td></td><td style=\"text-align: left\">2020-02-29T05:19:00.467964-08:00 Validating parameters of CDAT.divide (9db7979f-972c-4d0b-9391-5921d40e749d) 0.0</td></tr><tr><td></td><td></td><td style=\"text-align: left\">2020-02-29T05:19:00.507457-08:00 Validating inputs of CDAT.divide (5bc08fbf-529a-4b70-8eaa-acf93c4b6f23) 0.0</td></tr><tr><td></td><td></td><td style=\"text-align: left\">2020-02-29T05:19:00.551243-08:00 Validating parameters of CDAT.divide (5bc08fbf-529a-4b70-8eaa-acf93c4b6f23) 0.0</td></tr><tr><td></td><td></td><td style=\"text-align: left\">2020-02-29T05:19:00.597608-08:00 Validating inputs of CDAT.merge (34e6be8b-125e-4a5d-9ea0-b102e2db33a2) 0.0</td></tr><tr><td></td><td></td><td style=\"text-align: left\">2020-02-29T05:19:00.638369-08:00 Validating parameters of CDAT.merge (34e6be8b-125e-4a5d-9ea0-b102e2db33a2) 0.0</td></tr></table>"
      ],
      "text/plain": [
       "<cwt.llnl_client.JobWrapper at 0x7fb69380d7c0>"
      ]
     },
     "execution_count": 6,
     "metadata": {},
     "output_type": "execute_result"
    }
   ],
   "source": [
    "client.job(1)"
   ]
  },
  {
   "cell_type": "code",
   "execution_count": null,
   "metadata": {},
   "outputs": [],
   "source": []
  }
 ],
 "metadata": {
  "kernelspec": {
   "display_name": "Python 3",
   "language": "python",
   "name": "python3"
  },
  "language_info": {
   "codemirror_mode": {
    "name": "ipython",
    "version": 3
   },
   "file_extension": ".py",
   "mimetype": "text/x-python",
   "name": "python",
   "nbconvert_exporter": "python",
   "pygments_lexer": "ipython3",
   "version": "3.8.2"
  }
 },
 "nbformat": 4,
 "nbformat_minor": 4
}
