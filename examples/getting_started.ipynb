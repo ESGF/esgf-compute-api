{
 "cells": [
  {
   "cell_type": "markdown",
   "metadata": {},
   "source": [
    "# Getting Started\n",
    "\n",
    "This tutorial will help you install the ESGF End-user API and demonstrate some of the capabilites using ESGF's WPS server on [aims2](https://aims2.llnl.gov)."
   ]
  },
  {
   "cell_type": "markdown",
   "metadata": {},
   "source": [
    "## Step 1\n",
    "\n",
    "Install miniconda for your OS.\n",
    "\n",
    "* Miniconda for [MacOS](https://conda.io/docs/user-guide/install/macos.html) follow those instructions.\n",
    "\n",
    "* Miniconda for [Linux](https://conda.io/docs/user-guide/install/linux.html) follow those instructions."
   ]
  },
  {
   "cell_type": "markdown",
   "metadata": {},
   "source": [
    "## Step 2\n",
    "\n",
    "Install the required packages from conda.\n",
    "\n",
    "```bash\n",
    "conda install -c conda-forge -c cdat esgf-compute-api\n",
    "```"
   ]
  },
  {
   "cell_type": "markdown",
   "metadata": {},
   "source": [
    "## Step 3\n",
    "\n",
    "Next you'll want to create an account on [aims2](https://aims2.llnl.gov/) and retrieve an API key, giving you access\n",
    "to LLNL's ESGF Compute Node. Follow the instructions on the landing page."
   ]
  },
  {
   "cell_type": "markdown",
   "metadata": {},
   "source": [
    "## Step 4\n",
    "\n",
    "Now we'll run through some basics of using the ESGF Compute End-user API."
   ]
  },
  {
   "cell_type": "markdown",
   "metadata": {},
   "source": [
    "## Setup your connection the compute server\n",
    "\n",
    "Replace the `host`, `api_key`, `verify` to appropiate values."
   ]
  },
  {
   "cell_type": "code",
   "execution_count": null,
   "metadata": {},
   "outputs": [],
   "source": [
    "import os\n",
    "import cwt\n",
    "\n",
    "wps_url = os.environ.get('WPS_URL', 'https://aims2.llnl.gov/wps')\n",
    "verify = bool(os.environ.get('WPS_VERIFY', False))\n",
    "compute_token = os.environ.get('WPS_TOKEN', '<token>')\n",
    "\n",
    "client = cwt.WPSClient(wps_url, compute_token=compute_token, verify=verify)\n",
    "client"
   ]
  },
  {
   "cell_type": "markdown",
   "metadata": {},
   "source": [
    "## List the available processes\n",
    "This will print out a list of the available processes."
   ]
  },
  {
   "cell_type": "code",
   "execution_count": 11,
   "metadata": {},
   "outputs": [
    {
     "name": "stdout",
     "output_type": "stream",
     "text": [
      "CDAT.metrics\n",
      "CDAT.workflow\n",
      "CDAT.abs\n",
      "CDAT.add\n",
      "CDAT.aggregate\n",
      "CDAT.divide\n",
      "CDAT.exp\n",
      "CDAT.filter_map\n",
      "CDAT.log\n",
      "CDAT.max\n",
      "CDAT.mean\n",
      "CDAT.min\n",
      "CDAT.multiply\n",
      "CDAT.power\n",
      "CDAT.subset\n",
      "CDAT.subtract\n",
      "CDAT.sum\n",
      "CDAT.merge\n",
      "CDAT.where\n",
      "CDAT.groupby_bins\n",
      "CDAT.count\n",
      "CDAT.squeeze\n",
      "CDAT.std\n",
      "CDAT.var\n",
      "CDAT.sqrt\n"
     ]
    }
   ],
   "source": [
    "for p in client.processes():\n",
    "    print(p.identifier)"
   ]
  },
  {
   "cell_type": "markdown",
   "metadata": {},
   "source": [
    "## Search for a specific process"
   ]
  },
  {
   "cell_type": "markdown",
   "metadata": {},
   "source": [
    "This will find all processes matching the [regular expression](https://docs.python.org/2/library/re.html)."
   ]
  },
  {
   "cell_type": "code",
   "execution_count": 12,
   "metadata": {},
   "outputs": [
    {
     "name": "stdout",
     "output_type": "stream",
     "text": [
      "CDAT.subset\n"
     ]
    }
   ],
   "source": [
    "for p in client.processes('.*\\\\.subset'):\n",
    "    print(p.identifier)"
   ]
  },
  {
   "cell_type": "markdown",
   "metadata": {},
   "source": [
    "## Choose a process to execute\n",
    "Let's choose which process we'll be executing."
   ]
  },
  {
   "cell_type": "code",
   "execution_count": 13,
   "metadata": {},
   "outputs": [
    {
     "data": {
      "text/plain": [
       "Process(name=e33fcd19-9813-4fc6-bb22-45bc1f6b3c56, identifier=CDAT.subset, inputs=[], parameters={}, domain=None, title=CDAT.subset, process_outputs=[], data_inputs=[], status_supported=None, store_supported=None, process_version=devel)"
      ]
     },
     "execution_count": 13,
     "metadata": {},
     "output_type": "execute_result"
    }
   ],
   "source": [
    "proc = client.CDAT.subset()\n",
    "proc"
   ]
  },
  {
   "cell_type": "markdown",
   "metadata": {},
   "source": [
    "## Configure our process with inputs and some constraints\n",
    "Here we define our input variables and the domain we're interested in."
   ]
  },
  {
   "cell_type": "code",
   "execution_count": 14,
   "metadata": {},
   "outputs": [],
   "source": [
    "tas = cwt.Variable('http://aims3.llnl.gov/thredds/dodsC/css03_data/CMIP6/CMIP/NASA-GISS/GISS-E2-1-G/historical/r10i1p1f1/Amon/tas/gn/v20180830/tas_Amon_GISS-E2-1-G_historical_r10i1p1f1_gn_185001-190012.nc', 'tas')\n",
    "d0 = cwt.Domain(lat=(-90, 0), time=(0, 2000))\n",
    "\n",
    "proc = client.CDAT.subset(tas, domain=d0)"
   ]
  },
  {
   "cell_type": "markdown",
   "metadata": {},
   "source": [
    "## Let's execute the process\n",
    "Now we'll send the request to the server and wait for the output."
   ]
  },
  {
   "cell_type": "code",
   "execution_count": 15,
   "metadata": {},
   "outputs": [
    {
     "name": "stdout",
     "output_type": "stream",
     "text": [
      "ProcessAccepted None\n",
      "ProcessAccepted Validating workflow\n",
      "ProcessStarted Preparing to execute workflow 0\n",
      "ProcessStarted Processing 0\n",
      "ProcessSucceeded None\n"
     ]
    },
    {
     "data": {
      "text/plain": [
       "True"
      ]
     },
     "execution_count": 15,
     "metadata": {},
     "output_type": "execute_result"
    }
   ],
   "source": [
    "client.execute(proc)\n",
    "\n",
    "proc.wait()"
   ]
  },
  {
   "cell_type": "markdown",
   "metadata": {},
   "source": [
    "## Let's checkout the output of the process"
   ]
  },
  {
   "cell_type": "code",
   "execution_count": 16,
   "metadata": {},
   "outputs": [
    {
     "data": {
      "text/plain": [
       "Variable(name='8d41ed1e-f465-4013-8eb1-9d43d8725d83-CDAT.subset', uri='https://aims2.llnl.gov/threddsCWT/dodsC/public/2/18/30e9343d-55e2-4469-8d88-c9e5a9d3d11f.nc', var_name='tas', domain=None, mime_type=None)"
      ]
     },
     "execution_count": 16,
     "metadata": {},
     "output_type": "execute_result"
    }
   ],
   "source": [
    "proc.output"
   ]
  },
  {
   "cell_type": "markdown",
   "metadata": {},
   "source": [
    "## Let's explore the output"
   ]
  },
  {
   "cell_type": "code",
   "execution_count": 18,
   "metadata": {},
   "outputs": [
    {
     "name": "stdout",
     "output_type": "stream",
     "text": [
      "(66, 45, 144)\n"
     ]
    }
   ],
   "source": [
    "import cdms2\n",
    "\n",
    "f = cdms2.open(proc.output.uri)\n",
    "\n",
    "data = f[proc.output.var_name]\n",
    "\n",
    "print(data.shape)"
   ]
  },
  {
   "cell_type": "code",
   "execution_count": 20,
   "metadata": {},
   "outputs": [
    {
     "name": "stderr",
     "output_type": "stream",
     "text": [
      "/opt/conda/envs/jupyterlab/lib/python3.8/site-packages/cdms2/tvariable.py:281: DeprecationWarning: Non-scalar arrays for the fill value are deprecated. Use arrays with scalar values instead. The filled function still supports any array as `fill_value`.\n",
      "  self._missing = numpy.array(value).astype(self.dtype)\n"
     ]
    },
    {
     "data": {
      "text/plain": [
       "<matplotlib.image.AxesImage at 0x7f71dad9ce20>"
      ]
     },
     "execution_count": 20,
     "metadata": {},
     "output_type": "execute_result"
    },
    {
     "data": {
      "image/png": "[encoded data removed]",
      "text/plain": [
       "<Figure size 432x288 with 1 Axes>"
      ]
     },
     "metadata": {
      "needs_background": "light"
     },
     "output_type": "display_data"
    }
   ],
   "source": [
    "import matplotlib.pyplot as plt\n",
    "\n",
    "fig, ax = plt.subplots()\n",
    "ax.imshow(data[0])"
   ]
  },
  {
   "cell_type": "code",
   "execution_count": null,
   "metadata": {},
   "outputs": [],
   "source": []
  }
 ],
 "metadata": {
  "kernelspec": {
   "display_name": "Python 3",
   "language": "python",
   "name": "python3"
  },
  "language_info": {
   "codemirror_mode": {
    "name": "ipython",
    "version": 3
   },
   "file_extension": ".py",
   "mimetype": "text/x-python",
   "name": "python",
   "nbconvert_exporter": "python",
   "pygments_lexer": "ipython3",
   "version": "3.8.2"
  }
 },
 "nbformat": 4,
 "nbformat_minor": 4
}
