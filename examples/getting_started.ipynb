{
 "cells": [
  {
   "cell_type": "markdown",
   "metadata": {},
   "source": [
    "# Getting Started\n",
    "\n",
    "This tutorial will help you install the ESGF End-user API and demonstrate some of the capabilites using ESGF's WPS server on [aims2](https://aims2.llnl.gov)."
   ]
  },
  {
   "cell_type": "markdown",
   "metadata": {},
   "source": [
    "## Step 1\n",
    "\n",
    "Install miniconda for your OS.\n",
    "\n",
    "* Miniconda for [MacOS](https://conda.io/docs/user-guide/install/macos.html) follow those instructions.\n",
    "\n",
    "* Miniconda for [Linux](https://conda.io/docs/user-guide/install/linux.html) follow those instructions."
   ]
  },
  {
   "cell_type": "markdown",
   "metadata": {},
   "source": [
    "## Step 2\n",
    "\n",
    "Install the required packages from conda.\n",
    "\n",
    "```\n",
    "conda install -c conda-forge -c cdat esgf-compute-api\n",
    "```\n",
    "\n",
    "To add the other packages we'll be using in this guide run the following:\n",
    "\n",
    "```\n",
    "conda install -c conda-forge -c cdat cdms2 vcs\n",
    "```\n",
    "\n",
    "If you're running a headless server you may need to install the mesalib version of vcs:\n",
    "\n",
    "```\n",
    "conda install -c conda-forge -c cdat mesalib cdms2 vcs\n",
    "```"
   ]
  },
  {
   "cell_type": "markdown",
   "metadata": {},
   "source": [
    "## Step 3\n",
    "\n",
    "Next you'll want to create an account on [aims2](https://aims2.llnl.gov/wps/home) and retrieve an API key, giving you access\n",
    "to LLNL's ESGF Compute Node. Follow the instructions on the landing page."
   ]
  },
  {
   "cell_type": "markdown",
   "metadata": {},
   "source": [
    "## Step 4\n",
    "\n",
    "Now we'll run through some basics of using the ESGF Compute End-user API."
   ]
  },
  {
   "cell_type": "markdown",
   "metadata": {},
   "source": [
    "## Setup your connection the compute server"
   ]
  },
  {
   "cell_type": "code",
   "execution_count": null,
   "metadata": {},
   "outputs": [],
   "source": [
    "api_key = 'TOKEN'\n",
    "\n",
    "import cwt\n",
    "\n",
    "wps = cwt.WPSClient('https://aims2.llnl.gov/wps/', api_key=api_key, verify=False)"
   ]
  },
  {
   "cell_type": "markdown",
   "metadata": {},
   "source": [
    "## List the available processes\n",
    "This will print out a list of the available processes."
   ]
  },
  {
   "cell_type": "code",
   "execution_count": null,
   "metadata": {},
   "outputs": [],
   "source": [
    "for p in wps.processes():\n",
    "    print p.identifier"
   ]
  },
  {
   "cell_type": "markdown",
   "metadata": {},
   "source": [
    "## Search for a specific process"
   ]
  },
  {
   "cell_type": "markdown",
   "metadata": {},
   "source": [
    "This will find all processes matching the regular expression (https://docs.python.org/2/library/re.html)."
   ]
  },
  {
   "cell_type": "code",
   "execution_count": null,
   "metadata": {},
   "outputs": [],
   "source": [
    "for p in wps.processes('.*\\.subset'):\n",
    "    print p.identifier"
   ]
  },
  {
   "cell_type": "markdown",
   "metadata": {},
   "source": [
    "## Choose a process to execute\n",
    "Let's choose which process we'll be executing."
   ]
  },
  {
   "cell_type": "code",
   "execution_count": null,
   "metadata": {},
   "outputs": [],
   "source": [
    "proc = wps.processes('CDAT.subset')[0]"
   ]
  },
  {
   "cell_type": "markdown",
   "metadata": {},
   "source": [
    "## Configure our process with inputs and some constraints\n",
    "Here we define our input variables and the domain we're interested in."
   ]
  },
  {
   "cell_type": "code",
   "execution_count": null,
   "metadata": {},
   "outputs": [],
   "source": [
    "tas = cwt.Variable('http://aims3.llnl.gov/thredds/dodsC/cmip5_css02_data/cmip5/output1/CMCC/CMCC-CM/decadal2005/mon/atmos/Amon/r1i2p1/tas/1/tas_Amon_CMCC-CM_decadal2005_r1i2p1_200511-201512.nc', 'tas')\n",
    "\n",
    "d0 = cwt.Domain(lat=(-90, 0), time=(0, 2000))"
   ]
  },
  {
   "cell_type": "markdown",
   "metadata": {},
   "source": [
    "## Let's execute the process\n",
    "Here we'll execute the process on the server. We're using the inputs and domain we defined above and applying regridding to grid T21."
   ]
  },
  {
   "cell_type": "code",
   "execution_count": null,
   "metadata": {},
   "outputs": [],
   "source": [
    "wps.execute(proc, [tas], d0)"
   ]
  },
  {
   "cell_type": "markdown",
   "metadata": {},
   "source": [
    "## We'll wait for the process to complete"
   ]
  },
  {
   "cell_type": "code",
   "execution_count": null,
   "metadata": {},
   "outputs": [],
   "source": [
    "proc.wait()"
   ]
  },
  {
   "cell_type": "markdown",
   "metadata": {},
   "source": [
    "## Let's checkout the output of the process"
   ]
  },
  {
   "cell_type": "code",
   "execution_count": null,
   "metadata": {},
   "outputs": [],
   "source": [
    "print proc.output"
   ]
  },
  {
   "cell_type": "markdown",
   "metadata": {},
   "source": [
    "## Let's explore the output"
   ]
  },
  {
   "cell_type": "code",
   "execution_count": null,
   "metadata": {},
   "outputs": [],
   "source": [
    "import cdms2\n",
    "\n",
    "f = cdms2.open(proc.output.uri)\n",
    "\n",
    "data = f[proc.output.var_name]\n",
    "\n",
    "# (66, 120, 480)\n",
    "print data.shape\n",
    "print data.getTime()[:]"
   ]
  },
  {
   "cell_type": "code",
   "execution_count": null,
   "metadata": {},
   "outputs": [],
   "source": [
    "import vcs\n",
    "\n",
    "v = vcs.init()\n",
    "\n",
    "v.plot(data)"
   ]
  },
  {
   "cell_type": "code",
   "execution_count": null,
   "metadata": {},
   "outputs": [],
   "source": []
  }
 ],
 "metadata": {
  "kernelspec": {
   "display_name": "Python 2",
   "language": "python",
   "name": "python2"
  },
  "language_info": {
   "codemirror_mode": {
    "name": "ipython",
    "version": 2
   },
   "file_extension": ".py",
   "mimetype": "text/x-python",
   "name": "python",
   "nbconvert_exporter": "python",
   "pygments_lexer": "ipython2",
   "version": "2.7.15"
  }
 },
 "nbformat": 4,
 "nbformat_minor": 2
}
